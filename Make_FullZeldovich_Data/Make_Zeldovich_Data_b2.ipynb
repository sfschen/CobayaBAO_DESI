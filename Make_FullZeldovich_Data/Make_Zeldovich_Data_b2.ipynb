{
 "cells": [
  {
   "cell_type": "code",
   "execution_count": 1,
   "id": "6b049aa7-9fbd-4beb-b06b-b8218e13db60",
   "metadata": {},
   "outputs": [],
   "source": [
    "import numpy as np\n",
    "\n",
    "from matplotlib import pyplot as plt\n",
    "\n",
    "from scipy.optimize import minimize\n",
    "from scipy.interpolate import interp1d\n"
   ]
  },
  {
   "cell_type": "code",
   "execution_count": null,
   "id": "6a38d31c-908a-4d99-a580-aef5b2ac2959",
   "metadata": {},
   "outputs": [],
   "source": []
  },
  {
   "cell_type": "code",
   "execution_count": 2,
   "id": "89e0084d-c5b2-4853-a65f-5e745f8ebab9",
   "metadata": {},
   "outputs": [],
   "source": [
    "import sys\n",
    "\n",
    "sys.path.append(\"/global/homes/s/sfschen/Python/ZeldovichReconPk/\")"
   ]
  },
  {
   "cell_type": "code",
   "execution_count": null,
   "id": "844fb192-db54-47a8-af4d-6f8e3db2fc58",
   "metadata": {},
   "outputs": [],
   "source": []
  },
  {
   "cell_type": "code",
   "execution_count": 3,
   "id": "dc40173a-14ef-4931-a0fc-ce3473bb9e0d",
   "metadata": {},
   "outputs": [],
   "source": [
    "from zeldovich_rsd_recon_fftw import Zeldovich_Recon"
   ]
  },
  {
   "cell_type": "code",
   "execution_count": null,
   "id": "838b0043-21ce-4ea8-9f88-cb6e3d49d0f8",
   "metadata": {},
   "outputs": [],
   "source": []
  },
  {
   "cell_type": "code",
   "execution_count": 4,
   "id": "12ba0d4f-54e7-40c3-af84-eaa279e15921",
   "metadata": {},
   "outputs": [],
   "source": [
    "# power spectrum\n",
    "sys.path.append('/global/homes/s/sfschen/Python/cosmoprimo/')\n",
    "from cosmoprimo.fiducial import DESI\n",
    "\n",
    "cosmo = DESI()\n",
    "\n",
    "pkz = cosmo.get_fourier().pk_interpolator()\n",
    "pk = pkz.to_1d(z=0.8)\n",
    "\n",
    "kl = np.logspace(-3,1,2000)\n",
    "pl = pk(kl)"
   ]
  },
  {
   "cell_type": "code",
   "execution_count": null,
   "id": "13ded4bc-3290-46cc-be94-80623f99faaa",
   "metadata": {},
   "outputs": [],
   "source": []
  },
  {
   "cell_type": "code",
   "execution_count": 6,
   "id": "ddb51c15-2f5d-4a1c-91e7-f9758cffbdd4",
   "metadata": {},
   "outputs": [],
   "source": [
    "# Linear Growth\n",
    "sys.path.append('../')\n",
    "from lss_likelihood.linear_theory import D_of_a, f_of_a"
   ]
  },
  {
   "cell_type": "code",
   "execution_count": 7,
   "id": "2307e62b-64bc-402b-b930-e9e26ae07f24",
   "metadata": {},
   "outputs": [],
   "source": [
    "z = 0.8\n",
    "OmegaM = cosmo['Omega_m']\n",
    "fnu = cosmo['Omega_ncdm_tot'] / OmegaM"
   ]
  },
  {
   "cell_type": "code",
   "execution_count": 8,
   "id": "04b77a03-024a-4577-b873-8669750d39d4",
   "metadata": {},
   "outputs": [],
   "source": [
    "fz = f_of_a(1/(1+z), OmegaM=OmegaM) * (1-0.6*fnu)"
   ]
  },
  {
   "cell_type": "code",
   "execution_count": null,
   "id": "8b34be02-9f2b-4017-9d66-7def321789d1",
   "metadata": {},
   "outputs": [],
   "source": []
  },
  {
   "cell_type": "code",
   "execution_count": 9,
   "id": "63304ffa-0e5d-4ec5-8a3c-50fa97f3cab1",
   "metadata": {},
   "outputs": [],
   "source": [
    "# Run PT class\n",
    "zelda = Zeldovich_Recon(kl,pl,R=10)"
   ]
  },
  {
   "cell_type": "code",
   "execution_count": 10,
   "id": "39960548-4d2d-4643-95ad-467c3b304931",
   "metadata": {},
   "outputs": [],
   "source": [
    "zelda.make_pltable(fz, D=1,\\\n",
    "                   kmin = 1e-3, kmax = 0.5, nk = 400,\\\n",
    "                   ngauss = 4, nmax=8, method = 'RecSym', a_perp = 1, a_par = 1);"
   ]
  },
  {
   "cell_type": "code",
   "execution_count": null,
   "id": "ac48a75f-07ee-46de-b4af-94eca03eff12",
   "metadata": {},
   "outputs": [],
   "source": []
  },
  {
   "cell_type": "code",
   "execution_count": 37,
   "id": "d92b7a78-df2c-42f8-a64f-b953bec60458",
   "metadata": {},
   "outputs": [],
   "source": []
  },
  {
   "cell_type": "code",
   "execution_count": null,
   "id": "df81a5c1-878d-4889-9de9-a7c2c15ae63a",
   "metadata": {},
   "outputs": [],
   "source": []
  },
  {
   "cell_type": "code",
   "execution_count": 86,
   "id": "62ff1645-a154-4142-bba3-8c2fef097d68",
   "metadata": {},
   "outputs": [],
   "source": [
    "def PellTemplates_b2(b1,b2):\n",
    "    \n",
    "    p0 = zelda.p0kPellTemplates_b2le[:,0] + b1 * zelda.p0ktable[:,1] + b1**2*zelda.p0ktable[:,2] +\\\n",
    "          b2*zelda.p0ktable[:,3] + b1*b2*zelda.p0ktable[:,4] + b2**2*zelda.p0ktable[:,5]\n",
    "    p2 = zelda.p2ktable[:,0] + b1 * zelda.p2ktable[:,1] + b1**2*zelda.p2ktable[:,2] +\\\n",
    "          b2*zelda.p2ktable[:,3] + b1*b2*zelda.p2ktable[:,4] + b2**2*zelda.p2ktable[:,5]\n",
    "    \n",
    "    return p0, p2"
   ]
  },
  {
   "cell_type": "code",
   "execution_count": null,
   "id": "8240fe7b-d7d0-479d-b900-8601602546b4",
   "metadata": {},
   "outputs": [],
   "source": []
  },
  {
   "cell_type": "code",
   "execution_count": 12,
   "id": "e9e050c5-3aea-4e6b-a857-3125ef163163",
   "metadata": {},
   "outputs": [],
   "source": [
    "# Fit the data"
   ]
  },
  {
   "cell_type": "code",
   "execution_count": 14,
   "id": "4b54073b-f2b9-4251-a7c1-376f6a3505f2",
   "metadata": {},
   "outputs": [],
   "source": [
    "pkdat = np.loadtxt('../data/pkells_recsym_mean_cubic.dat')\n",
    "cov   = np.loadtxt('../data/pkells_recsym_cov_cubic.dat')\n",
    "cinv = np.linalg.inv(cov)"
   ]
  },
  {
   "cell_type": "code",
   "execution_count": null,
   "id": "9bbba9d0-46eb-4487-ab12-9a75696db947",
   "metadata": {},
   "outputs": [],
   "source": []
  },
  {
   "cell_type": "code",
   "execution_count": 15,
   "id": "4133cb1e-bebd-4cfb-8f1f-27dcba70cc61",
   "metadata": {},
   "outputs": [
    {
     "data": {
      "text/plain": [
       "(0.0, 0.3)"
      ]
     },
     "execution_count": 15,
     "metadata": {},
     "output_type": "execute_result"
    },
    {
     "data": {
      "image/png": "[encoded data removed]",
      "text/plain": [
       "<Figure size 432x288 with 1 Axes>"
      ]
     },
     "metadata": {
      "needs_background": "light"
     },
     "output_type": "display_data"
    }
   ],
   "source": [
    "plt.plot(pkdat[:,0], pkdat[:,0] * pkdat[:,1])\n",
    "plt.plot(pkdat[:,0], pkdat[:,0] * pkdat[:,2])\n",
    "\n",
    "plt.xlim(0,0.3)"
   ]
  },
  {
   "cell_type": "code",
   "execution_count": null,
   "id": "15370834-d701-487d-81b2-ca2820cb9792",
   "metadata": {},
   "outputs": [],
   "source": []
  },
  {
   "cell_type": "code",
   "execution_count": 59,
   "id": "1d696e81-6fc3-463f-8f80-683f74b748f4",
   "metadata": {},
   "outputs": [],
   "source": [
    "kcen = pkdat[:,0]\n",
    "dk = kcen[1] - kcen[0]\n",
    "kr = kcen + dk/2\n",
    "kl = kcen - dk/2\n",
    "kmean = 3./4 * (kr**4 - kl**4) / (kr**3 - kl**3)"
   ]
  },
  {
   "cell_type": "code",
   "execution_count": 120,
   "id": "6e588cc6-56ad-4dcb-aa7f-83c5eeb7c90f",
   "metadata": {},
   "outputs": [],
   "source": [
    "def bf_poly_b2_p0(b1, b2, kmax=0.3):\n",
    "    \n",
    "    \n",
    "    iis = (pkdat[:,0] < kmax) * (pkdat[:,0] > 0.02)\n",
    "    \n",
    "    p0, p2 = PellTemplates_b2(b1,b2)\n",
    "    \n",
    "    p0 = interp1d(zelda.kv, p0, kind='cubic', bounds_error=False)(kmean)\n",
    "    \n",
    "    #diff = np.concatenate((p0,p2)) - np.concatenate( (pkdat[:,1], pkdat[:,2]) )\n",
    "    \n",
    "    _func = lambda pcoeffs: np.sum( ((p0 + polyval(kmean/0.1, pcoeffs) / (kmean/0.1)**2 - pkdat[:,1])**2 / pkdat[:,1])[iis]**2 )\n",
    "    \n",
    "    x = minimize(_func, [0,0,0,0,0]).x\n",
    "    \n",
    "    return x\n",
    "\n",
    "def bf_poly_b2_p2(b1, b2, kmax=0.3):\n",
    "    \n",
    "    \n",
    "    iis = (pkdat[:,0] < kmax) * (pkdat[:,0] > 0.02)\n",
    "    \n",
    "    p0, p2 = PellTemplates_b2(b1,b2)\n",
    "    \n",
    "    p2 = interp1d(zelda.kv, p2, kind='cubic', bounds_error=False)(kmean)\n",
    "    \n",
    "    #diff = np.concatenate((p0,p2)) - np.concatenate( (pkdat[:,1], pkdat[:,2]) )\n",
    "    \n",
    "    _func = lambda pcoeffs: np.sum( ((p2 + polyval(kmean/0.1, pcoeffs) / (kmean/0.1)**2 - pkdat[:,2])**2 / pkdat[:,1])[iis]**2 )\n",
    "    \n",
    "    x = minimize(_func, [0,0,0,0,0]).x\n",
    "    \n",
    "    return x"
   ]
  },
  {
   "cell_type": "code",
   "execution_count": null,
   "id": "e494a317-e3dd-425e-a89a-1bd72d237b92",
   "metadata": {},
   "outputs": [],
   "source": []
  },
  {
   "cell_type": "code",
   "execution_count": 144,
   "id": "c5c1bed1-fa54-4870-aec3-39422826f2e1",
   "metadata": {},
   "outputs": [
    {
     "data": {
      "text/plain": [
       "(0.0, 2000.0)"
      ]
     },
     "execution_count": 144,
     "metadata": {},
     "output_type": "execute_result"
    },
    {
     "data": {
      "image/png": "[encoded data removed]",
      "text/plain": [
       "<Figure size 720x360 with 1 Axes>"
      ]
     },
     "metadata": {
      "needs_background": "light"
     },
     "output_type": "display_data"
    }
   ],
   "source": [
    "plt.figure(figsize=(10,5))\n",
    "\n",
    "b1, b2 = 0.984, 0\n",
    "\n",
    "p0, p2 = PellTemplates_b2(b1,b2)\n",
    "p0 = interp1d(zelda.kv, p0, kind='cubic', bounds_error=False)(kmean)\n",
    "p2 = interp1d(zelda.kv, p2, kind='cubic', bounds_error=False)(kmean)\n",
    "\n",
    "\n",
    "pcoeffs0 = bf_poly_b2_p0(b1,b2)\n",
    "\n",
    "plt.plot(kcen, kcen * (p0 + polyval(kmean/0.1, pcoeffs0) / (kmean/0.1)**2), 'C0')\n",
    "plt.plot(kcen, kcen * (p0 + 0*polyval(kmean/0.1, pcoeffs0) / (kmean/0.1)**2), 'C0--')\n",
    "\n",
    "pcoeffs2 = bf_poly_b2_p2(b1,b2)\n",
    "\n",
    "plt.plot(kcen, kcen * (p2 + polyval(kmean/0.1, pcoeffs2) / (kmean/0.1)**2), 'C1')\n",
    "plt.plot(kcen, kcen * (p2 + 0*polyval(kmean/0.1, pcoeffs2) / (kmean/0.1)**2), 'C1--')\n",
    "\n",
    "#plt.plot(kcen, kcen * p2, 'C1')\n",
    "\n",
    "plt.plot(pkdat[:,0], pkdat[:,0] * pkdat[:,1], 'C0o')\n",
    "plt.plot(pkdat[:,0], pkdat[:,0] * pkdat[:,2], 'C1o')\n",
    "\n",
    "plt.xlim(0,0.3)\n",
    "plt.ylim(0,2000)"
   ]
  },
  {
   "cell_type": "code",
   "execution_count": null,
   "id": "93ce8df4-a6c0-440d-bb1c-69a442ea2a26",
   "metadata": {},
   "outputs": [],
   "source": []
  },
  {
   "cell_type": "code",
   "execution_count": 145,
   "id": "f1c22bde-3cff-43e7-a7d2-7f11f0dffad1",
   "metadata": {},
   "outputs": [],
   "source": [
    "ptdat = np.zeros_like(pkdat)\n",
    "ptdat[:,0] = pkdat[:,0]\n",
    "\n",
    "for ii, k in enumerate(kcen):\n",
    "    \n",
    "    p0, p2 = PellTemplates_b2(b1,b2)\n",
    "    \n",
    "    p0 += polyval(zelda.kv/0.1, pcoeffs0) / (zelda.kv/0.1)**2\n",
    "    p2 += polyval(zelda.kv/0.1, pcoeffs2) / (zelda.kv/0.1)**2\n",
    "    \n",
    "    temp0 = interp1d(zelda.kv, p0, kind='cubic', bounds_error=False, fill_value=0)\n",
    "    temp2 = interp1d(zelda.kv, p2, kind='cubic', bounds_error=False, fill_value=0)\n",
    "    \n",
    "    rint = np.arange(0,1.01,0.01) * dk + (k - dk/2)\n",
    "    \n",
    "    ptdat[ii,1] = np.trapz(rint**2 * temp0(rint),x=rint) / np.trapz(rint**2, x=rint)\n",
    "    ptdat[ii,2] = np.trapz(rint**2 * temp2(rint),x=rint) / np.trapz(rint**2, x=rint)"
   ]
  },
  {
   "cell_type": "code",
   "execution_count": 147,
   "id": "cb3c320d-7b3c-4680-947a-e09b1516aa54",
   "metadata": {},
   "outputs": [],
   "source": [
    "def bin_pk(ptvec):\n",
    "    \n",
    "    ptdat = np.zeros_like(pkdat[:,1])\n",
    "    \n",
    "    for ii, k in enumerate(kcen):    \n",
    "        temp0 = interp1d(zelda.kv, ptvec, kind='cubic', bounds_error=False, fill_value=0)\n",
    "    \n",
    "        rint = np.arange(0,1.01,0.01) * dk + (k - dk/2)\n",
    "    \n",
    "        ptdat[ii] = np.trapz(rint**2 * temp0(rint),x=rint) / np.trapz(rint**2, x=rint)\n",
    "    \n",
    "    return ptdat"
   ]
  },
  {
   "cell_type": "code",
   "execution_count": null,
   "id": "622a5fae-6a01-4942-8b54-b70eddaffe5b",
   "metadata": {},
   "outputs": [],
   "source": []
  },
  {
   "cell_type": "code",
   "execution_count": 149,
   "id": "41ee2028-c624-43a8-93f1-a40a155fc6cd",
   "metadata": {},
   "outputs": [
    {
     "data": {
      "text/plain": [
       "(0.0, 2000.0)"
      ]
     },
     "execution_count": 149,
     "metadata": {},
     "output_type": "execute_result"
    },
    {
     "data": {
      "image/png": "[encoded data removed]",
      "text/plain": [
       "<Figure size 432x288 with 1 Axes>"
      ]
     },
     "metadata": {
      "needs_background": "light"
     },
     "output_type": "display_data"
    }
   ],
   "source": [
    "plt.plot(pkdat[:,0], pkdat[:,0] * pkdat[:,1])\n",
    "\n",
    "p0, p2 = PellTemplates_b2(b1,b2)\n",
    "p0 += polyval(zelda.kv/0.1, pcoeffs0) / (zelda.kv/0.1)**2\n",
    "ptdat = bin_pk(p0)\n",
    "\n",
    "plt.plot(pkdat[:,0], pkdat[:,0] * ptdat)\n",
    "\n",
    "plt.xlim(0,0.3)\n",
    "\n",
    "plt.ylim(0,2000)"
   ]
  },
  {
   "cell_type": "code",
   "execution_count": null,
   "id": "a17110e9-2d4b-40c8-b38b-84dd1993545d",
   "metadata": {},
   "outputs": [],
   "source": []
  },
  {
   "cell_type": "code",
   "execution_count": 152,
   "id": "45c71b14-180a-4a2f-a2f7-9a0c868df2ab",
   "metadata": {},
   "outputs": [],
   "source": [
    "# Run a few \n",
    "\n",
    "for b2 in [-4, -2, -1, -0.5, 0, 0.5, 1, 2, 4]:\n",
    "    \n",
    "    b1 = 0.985\n",
    "\n",
    "    p0, p2 = PellTemplates_b2(b1,b2)\n",
    "\n",
    "    pcoeffs0 = bf_poly_b2_p0(b1,b2)\n",
    "    pcoeffs2 = bf_poly_b2_p2(b1,b2)\n",
    "    \n",
    "    p0 += polyval(zelda.kv/0.1, pcoeffs0) / (zelda.kv/0.1)**2\n",
    "    p2 += polyval(zelda.kv/0.1, pcoeffs2) / (zelda.kv/0.1)**2\n",
    "    \n",
    "    p0 = bin_pk(p0)\n",
    "    p2 = bin_pk(p2)\n",
    "    \n",
    "    np.savetxt('data/pkells_recsym_theory_b2_%.1f.txt'%(b2), np.array([pkdat[:,0],p0,p2]).T)"
   ]
  },
  {
   "cell_type": "code",
   "execution_count": null,
   "id": "defb8368-3d66-4ca1-8754-17b27b3b758b",
   "metadata": {},
   "outputs": [],
   "source": []
  },
  {
   "cell_type": "code",
   "execution_count": null,
   "id": "371cc078-17ef-4f96-8250-1a28e303e77a",
   "metadata": {},
   "outputs": [],
   "source": []
  },
  {
   "cell_type": "code",
   "execution_count": null,
   "id": "2b87c9da-2ee6-437d-9b94-f96ae6b69827",
   "metadata": {},
   "outputs": [],
   "source": []
  },
  {
   "cell_type": "code",
   "execution_count": 66,
   "id": "628c7c21-6334-41ae-ab06-eadaa4d46331",
   "metadata": {},
   "outputs": [],
   "source": [
    "from loginterp import loginterp\n",
    "from spherical_bessel_transform import SphericalBesselTransform as SBT"
   ]
  },
  {
   "cell_type": "code",
   "execution_count": 71,
   "id": "7c74756b-4ba0-48cc-952a-a67525bed5d6",
   "metadata": {},
   "outputs": [],
   "source": [
    "xidat = np.loadtxt('../data/xiells_recsym_mean_cubic.dat')"
   ]
  },
  {
   "cell_type": "code",
   "execution_count": 157,
   "id": "922f3642-1f8c-49b9-9e92-c18124d00500",
   "metadata": {},
   "outputs": [],
   "source": [
    "kint = zelda.kint\n",
    "sbt = SBT(kint, fourier=True)\n",
    "\n",
    "b1, b2 = 0.984, -5\n",
    "\n",
    "p0, p2 = PellTemplates_b2(b1,b2)\n",
    "\n",
    "p0 = loginterp(zelda.kv, p0)(kint)\n",
    "p2 = loginterp(zelda.kv, p2)(kint)\n",
    "\n",
    "qq0, xi0 = sbt.sph(0, p0 * np.exp(-kint**2))\n",
    "qq2, xi2 = sbt.sph(2, p2 * np.exp(-kint**2)); xi2 *= -1"
   ]
  },
  {
   "cell_type": "code",
   "execution_count": 158,
   "id": "6df36592-3b5f-4df1-a55a-cc1c6db8c586",
   "metadata": {},
   "outputs": [
    {
     "data": {
      "text/plain": [
       "(-20.0, 100.0)"
      ]
     },
     "execution_count": 158,
     "metadata": {},
     "output_type": "execute_result"
    },
    {
     "data": {
      "image/png": "[encoded data removed]",
      "text/plain": [
       "<Figure size 720x360 with 1 Axes>"
      ]
     },
     "metadata": {
      "needs_background": "light"
     },
     "output_type": "display_data"
    }
   ],
   "source": [
    "plt.figure(figsize=(10,5))\n",
    "\n",
    "plt.plot(xidat[:,0], xidat[:,0]**2 * xidat[:,1], 'C0o')\n",
    "plt.plot(xidat[:,0], -xidat[:,0]**2 * xidat[:,2], 'C1o')\n",
    "\n",
    "plt.plot(qq0, qq0**2 * xi0)\n",
    "plt.plot(qq0, -qq0**2 * xi2)\n",
    "\n",
    "plt.xlim(0,150)\n",
    "plt.ylim(-20,100)"
   ]
  },
  {
   "cell_type": "code",
   "execution_count": null,
   "id": "6b8e1e08-df17-4bae-aa27-fe636d5e0c55",
   "metadata": {},
   "outputs": [],
   "source": []
  },
  {
   "cell_type": "code",
   "execution_count": 159,
   "id": "ac86b518-9728-4480-a436-cee145fdcb53",
   "metadata": {},
   "outputs": [],
   "source": [
    "rth = np.loadtxt('r_theory.txt')\n",
    "binmat = np.loadtxt('binmat.txt')"
   ]
  },
  {
   "cell_type": "code",
   "execution_count": null,
   "id": "8b966003-5c4f-44f5-901c-5ff3212a100a",
   "metadata": {},
   "outputs": [],
   "source": []
  },
  {
   "cell_type": "code",
   "execution_count": 160,
   "id": "26deba07-23d9-40e2-8989-bf3404a95afc",
   "metadata": {},
   "outputs": [
    {
     "name": "stdout",
     "output_type": "stream",
     "text": [
      "In function -  run_code\n",
      "WARNING: Runaway index on right side, bad interpolation. Reft index = 1.023e+02 at 5.000e-01\n"
     ]
    },
    {
     "name": "stderr",
     "output_type": "stream",
     "text": [
      "/global/homes/s/sfschen/Python/ZeldovichReconPk/loginterp.py:28: RuntimeWarning: overflow encountered in power\n",
      "  yr = y[r]*(xr/x[r])**rneff\n",
      "/global/homes/s/sfschen/Python/ZeldovichReconPk/loginterp.py:28: RuntimeWarning: overflow encountered in multiply\n",
      "  yr = y[r]*(xr/x[r])**rneff\n"
     ]
    },
    {
     "name": "stdout",
     "output_type": "stream",
     "text": [
      "In function -  run_code\n",
      "WARNING: Runaway index on right side, bad interpolation. Reft index = 1.634e+01 at 5.000e-01\n",
      "In function -  run_code\n",
      "WARNING: Runaway index on right side, bad interpolation. Reft index = 5.609e+00 at 5.000e-01\n",
      "In function -  run_code\n",
      "WARNING: Runaway index on right side, bad interpolation. Reft index = 2.214e+00 at 5.000e-01\n"
     ]
    }
   ],
   "source": [
    "for b2 in [-4, -2, -1, -0.5, 0, 0.5, 1, 2, 4]:\n",
    "    \n",
    "    b1 = 0.984\n",
    "\n",
    "    p0, p2 = PellTemplates_b2(b1,b2)\n",
    "\n",
    "    p0 = loginterp(zelda.kv, p0)(kint)\n",
    "    p2 = loginterp(zelda.kv, p2)(kint)\n",
    "\n",
    "    qq0, xi0 = sbt.sph(0, p0 * np.exp(-kint**2))\n",
    "    qq2, xi2 = sbt.sph(2, p2 * np.exp(-kint**2)); xi2 *= -1\n",
    "\n",
    "    xtdat = np.zeros_like(xidat)\n",
    "\n",
    "    xtdat[:,0] = xidat[:,0]\n",
    "    xtdat[:,1] = np.dot( binmat, interp1d(qq0, xi0, kind='cubic', fill_value=0, bounds_error=False)(rth) ) \n",
    "    xtdat[:,2] = np.dot( binmat, interp1d(qq2, xi2, kind='cubic', fill_value=0, bounds_error=False)(rth) )\n",
    "    \n",
    "    np.savetxt('data/xiells_recsym_theory_b2_%.1f.txt'%(b2), xtdat)\n",
    "    \n",
    "    "
   ]
  },
  {
   "cell_type": "code",
   "execution_count": 161,
   "id": "221e63a7-6eea-4e2d-a466-b49d16c7c513",
   "metadata": {},
   "outputs": [
    {
     "data": {
      "text/plain": [
       "[<matplotlib.lines.Line2D at 0x155529023e80>]"
      ]
     },
     "execution_count": 161,
     "metadata": {},
     "output_type": "execute_result"
    },
    {
     "data": {
      "image/png": "[encoded data removed]",
      "text/plain": [
       "<Figure size 720x360 with 1 Axes>"
      ]
     },
     "metadata": {
      "needs_background": "light"
     },
     "output_type": "display_data"
    }
   ],
   "source": [
    "plt.figure(figsize=(10,5))\n",
    "\n",
    "plt.plot(xidat[:,0], xidat[:,0]**2 * xidat[:,1], 'C0+')\n",
    "plt.plot(xidat[:,0], xidat[:,0]**2 * xtdat[:,1], 'C0')\n",
    "\n",
    "plt.plot(xidat[:,0], -xidat[:,0]**2 * xidat[:,2], 'C1+')\n",
    "plt.plot(xidat[:,0], -xidat[:,0]**2 * xtdat[:,2], 'C1')"
   ]
  },
  {
   "cell_type": "code",
   "execution_count": null,
   "id": "2ea70904-ca45-4c28-acdd-00c31a055ed2",
   "metadata": {},
   "outputs": [],
   "source": []
  },
  {
   "cell_type": "code",
   "execution_count": 25,
   "id": "cff27225-1e64-40ad-a8b2-a7a91dce203f",
   "metadata": {},
   "outputs": [],
   "source": []
  },
  {
   "cell_type": "code",
   "execution_count": 26,
   "id": "e3f63b30-ab6a-44bc-a5d5-fc905657abf8",
   "metadata": {},
   "outputs": [],
   "source": []
  },
  {
   "cell_type": "code",
   "execution_count": null,
   "id": "799a4088-3d93-46ad-80d9-0978d0792650",
   "metadata": {},
   "outputs": [],
   "source": []
  },
  {
   "cell_type": "code",
   "execution_count": 28,
   "id": "07634984-7a03-4ee7-8ec2-e0a2a10f4d04",
   "metadata": {},
   "outputs": [],
   "source": []
  },
  {
   "cell_type": "code",
   "execution_count": null,
   "id": "0742ff3e-62f7-4ffd-9e7c-1c45f26aabb7",
   "metadata": {},
   "outputs": [],
   "source": []
  },
  {
   "cell_type": "code",
   "execution_count": 29,
   "id": "a08c3cc1-40a7-45b9-8597-62b06daa56e4",
   "metadata": {},
   "outputs": [],
   "source": []
  },
  {
   "cell_type": "code",
   "execution_count": null,
   "id": "7222b00c-19d7-4774-8f29-c3bbbf3471d3",
   "metadata": {},
   "outputs": [],
   "source": []
  },
  {
   "cell_type": "code",
   "execution_count": null,
   "id": "57ee389e-f595-4411-842a-020b5424cf96",
   "metadata": {},
   "outputs": [],
   "source": []
  },
  {
   "cell_type": "code",
   "execution_count": null,
   "id": "cc22f506-a73f-4d66-ab61-ad8bd292dea9",
   "metadata": {},
   "outputs": [],
   "source": []
  },
  {
   "cell_type": "code",
   "execution_count": null,
   "id": "fdff5902-88f9-4a80-8f17-79f269777f28",
   "metadata": {},
   "outputs": [],
   "source": []
  }
 ],
 "metadata": {
  "kernelspec": {
   "display_name": "desi",
   "language": "python",
   "name": "desi"
  },
  "language_info": {
   "codemirror_mode": {
    "name": "ipython",
    "version": 3
   },
   "file_extension": ".py",
   "mimetype": "text/x-python",
   "name": "python",
   "nbconvert_exporter": "python",
   "pygments_lexer": "ipython3",
   "version": "3.8.8"
  }
 },
 "nbformat": 4,
 "nbformat_minor": 5
}
