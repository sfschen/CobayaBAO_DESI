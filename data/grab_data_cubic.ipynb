{
 "cells": [
  {
   "cell_type": "code",
   "execution_count": 1,
   "id": "916450c9-5a6e-4ea5-86c1-a62fda291631",
   "metadata": {},
   "outputs": [],
   "source": [
    "import numpy as np\n",
    "from matplotlib import pyplot as plt"
   ]
  },
  {
   "cell_type": "markdown",
   "id": "cc3fc749-032d-4153-9c1f-61da672582af",
   "metadata": {},
   "source": [
    "Power Spectrum"
   ]
  },
  {
   "cell_type": "code",
   "execution_count": 2,
   "id": "c57ca508-850d-4af9-9a87-0c6ac307b0ef",
   "metadata": {},
   "outputs": [],
   "source": [
    "basedir = '/global/cfs/cdirs/desi/cosmosim/KP45/MC/Clustering/AbacusSummit/CubicBox/LRG/Pk/Pre/'"
   ]
  },
  {
   "cell_type": "code",
   "execution_count": null,
   "id": "9d5631c7-e9f9-4c89-92e0-e0b9477c5cea",
   "metadata": {},
   "outputs": [],
   "source": []
  },
  {
   "cell_type": "code",
   "execution_count": 4,
   "id": "d1cc385d-0cd8-4032-b0c8-9ae045c76823",
   "metadata": {},
   "outputs": [],
   "source": [
    "# Import the data\n",
    "user = 'jmena'\n",
    "dk = 0.005\n",
    "\n",
    "filebase = basedir + '%s/nmesh_512/dk%.3f/'%(user,dk)\n",
    "\n",
    "ks =  np.loadtxt(filebase + '/k.txt')\n",
    "\n",
    "nbins = len(ks)\n",
    "kmaxs = dk * (1 + np.arange(nbins))\n",
    "kmins = dk * (0 + np.arange(nbins))\n",
    "kcens = dk * (0.5 + np.arange(nbins))\n",
    "\n",
    "p0s = np.loadtxt(filebase + '/Pk_0.txt')\n",
    "p2s = np.loadtxt(filebase + '/Pk_2.txt')\n",
    "p4s = np.loadtxt(filebase + '/Pk_4.txt')\n",
    "cov = np.loadtxt(filebase + '/cov.txt')"
   ]
  },
  {
   "cell_type": "code",
   "execution_count": 5,
   "id": "ab78a191-1cae-4015-b124-cda1db97f753",
   "metadata": {},
   "outputs": [
    {
     "data": {
      "text/plain": [
       "array([0.00375   , 0.00803571, 0.01282895, 0.01773649, 0.02268443,\n",
       "       0.0276511 , 0.03262795, 0.03761095, 0.04259793, 0.04758764,\n",
       "       0.05257931, 0.05757242, 0.06256663, 0.0675617 , 0.07255745,\n",
       "       0.07755374, 0.08255049, 0.08754761, 0.09254503, 0.09754273,\n",
       "       0.10254064, 0.10753875, 0.11253703, 0.11753546, 0.12253401,\n",
       "       0.12753268, 0.13253144, 0.1375303 , 0.14252924, 0.14752825,\n",
       "       0.15252732, 0.15752645, 0.16252564, 0.16752487, 0.17252415,\n",
       "       0.17752347, 0.18252283, 0.18752222, 0.19252164, 0.1975211 ,\n",
       "       0.20252058, 0.20752008, 0.21251961, 0.21751916, 0.22251873,\n",
       "       0.22751831, 0.23251792, 0.23751754, 0.24251718, 0.24751683,\n",
       "       0.2525165 , 0.25751618, 0.26251587, 0.26751558, 0.27251529,\n",
       "       0.27751501, 0.28251475, 0.28751449, 0.29251424, 0.29751401,\n",
       "       0.30251377, 0.30751355, 0.31251333, 0.31751312, 0.32251292,\n",
       "       0.32751272, 0.33251253, 0.33751235, 0.34251217, 0.34751199,\n",
       "       0.35251182, 0.35751165, 0.36251149, 0.36751134, 0.37251119,\n",
       "       0.37751104, 0.38251089, 0.38751075, 0.39251062, 0.39751048,\n",
       "       0.40251035, 0.40751022, 0.4125101 , 0.41750998, 0.42250986,\n",
       "       0.42750975, 0.43250963, 0.43750952, 0.44250942, 0.44750931,\n",
       "       0.45250921, 0.45750911, 0.46250901, 0.46750891, 0.47250882,\n",
       "       0.47750873, 0.48250864, 0.48750855, 0.49250846, 0.49750838])"
      ]
     },
     "execution_count": 5,
     "metadata": {},
     "output_type": "execute_result"
    }
   ],
   "source": [
    "0.75 * (kmaxs**4 - kmins**4) / (kmaxs**3 - kmins**3)"
   ]
  },
  {
   "cell_type": "code",
   "execution_count": 6,
   "id": "1071056f-21ab-48ff-b14b-d8b08d53bebb",
   "metadata": {},
   "outputs": [
    {
     "data": {
      "text/plain": [
       "array([0.00379811, 0.00829934, 0.01293223, 0.0176484 , 0.02256549,\n",
       "       0.02777644, 0.03269805, 0.03761648, 0.04263844, 0.04756514,\n",
       "       0.05262096, 0.05756032, 0.06254738, 0.06757793, 0.07255917,\n",
       "       0.07753384, 0.08251793, 0.08752752, 0.09254702, 0.09754963,\n",
       "       0.10253196, 0.1075116 , 0.11251028, 0.11755008, 0.12253694,\n",
       "       0.12752609, 0.1325302 , 0.13750627, 0.14251344, 0.14752592,\n",
       "       0.15252994, 0.15749456, 0.16251893, 0.1675461 , 0.1725292 ,\n",
       "       0.17753019, 0.18251476, 0.18753607, 0.19253236, 0.19751986,\n",
       "       0.20251536, 0.20750884, 0.2125178 , 0.21750041, 0.22250931,\n",
       "       0.22752895, 0.23252853, 0.23752765, 0.2424991 , 0.24749985,\n",
       "       0.25252002, 0.25751822, 0.26252556, 0.26753055, 0.27254045,\n",
       "       0.27753331, 0.28251238, 0.28751046, 0.29249713, 0.29750588,\n",
       "       0.30251213, 0.30750103, 0.31251341, 0.31751596, 0.32252213,\n",
       "       0.32751816, 0.33251237, 0.33749593, 0.34249191, 0.34751797,\n",
       "       0.35250599, 0.35751401, 0.36252501, 0.36752303, 0.3725177 ,\n",
       "       0.37751629, 0.38252268, 0.38751299, 0.39249578, 0.39750646,\n",
       "       0.40252816, 0.40752258, 0.41252281, 0.41751532, 0.42251123,\n",
       "       0.42751933, 0.43252047, 0.43750723, 0.44249328, 0.4475081 ,\n",
       "       0.45250915, 0.45750594, 0.46250731, 0.46750759, 0.47250947,\n",
       "       0.47750105, 0.48250407, 0.48750826, 0.4925129 , 0.49751549])"
      ]
     },
     "execution_count": 6,
     "metadata": {},
     "output_type": "execute_result"
    }
   ],
   "source": [
    "ks"
   ]
  },
  {
   "cell_type": "code",
   "execution_count": 7,
   "id": "fb89c01d-4d26-4265-87c1-fe4616a694f9",
   "metadata": {},
   "outputs": [],
   "source": [
    "p0 = np.mean(p0s,axis=1)\n",
    "p2 = np.mean(p2s,axis=1)\n",
    "p4 = np.mean(p4s,axis=1)"
   ]
  },
  {
   "cell_type": "code",
   "execution_count": null,
   "id": "a1e2ab47-5eaa-4afe-9c61-c46e53ccb1a4",
   "metadata": {},
   "outputs": [],
   "source": []
  },
  {
   "cell_type": "code",
   "execution_count": 8,
   "id": "cca1ffc8-1e6c-4176-819f-b56e3a99372f",
   "metadata": {},
   "outputs": [
    {
     "data": {
      "text/plain": [
       "[<matplotlib.lines.Line2D at 0x15552a1583d0>]"
      ]
     },
     "execution_count": 8,
     "metadata": {},
     "output_type": "execute_result"
    },
    {
     "data": {
      "image/png": "[encoded data removed]",
      "text/plain": [
       "<Figure size 432x288 with 1 Axes>"
      ]
     },
     "metadata": {
      "needs_background": "light"
     },
     "output_type": "display_data"
    }
   ],
   "source": [
    "plt.plot(ks, ks*p0)\n",
    "plt.plot(ks, ks*p2)\n",
    "plt.plot(ks, ks*p4)"
   ]
  },
  {
   "cell_type": "code",
   "execution_count": 9,
   "id": "093efea3-fe37-4774-a55f-396a33d967d7",
   "metadata": {},
   "outputs": [],
   "source": [
    "np.savetxt('pkells_%s_dk_%.3f_mean_cubic.dat'%(user,dk), np.array([kcens,p0,p2]).T) "
   ]
  },
  {
   "cell_type": "code",
   "execution_count": null,
   "id": "246a2075-cd22-4fd7-8b58-54d61001dffe",
   "metadata": {},
   "outputs": [],
   "source": []
  },
  {
   "cell_type": "code",
   "execution_count": 10,
   "id": "ba163aa0-8172-4a4a-9f0a-826a07de3abd",
   "metadata": {},
   "outputs": [],
   "source": [
    "basedir = '/global/cfs/cdirs/desi/cosmosim/KP45/MC/Clustering/EZmock/CubicBox/LRG/Pk/jmena/nmesh_512/dk0.005/'\n",
    "cov = np.loadtxt(basedir + 'cov.txt')"
   ]
  },
  {
   "cell_type": "code",
   "execution_count": 11,
   "id": "31d927df-07dd-4218-8721-dff1000b7ee8",
   "metadata": {},
   "outputs": [],
   "source": [
    "Ndat = len(ks)\n",
    "np.savetxt('pkells_%s_dk_%.3f_cov_cubic.dat'%(user,dk),  cov[:(2*Ndat),:(2*Ndat)]) "
   ]
  },
  {
   "cell_type": "code",
   "execution_count": null,
   "id": "d528c5ef-a5fd-4e93-953b-136eac0a8cd2",
   "metadata": {},
   "outputs": [],
   "source": []
  },
  {
   "cell_type": "markdown",
   "id": "a8a58d04-8ebc-461a-bd06-4167136b7625",
   "metadata": {},
   "source": [
    "Correlation function"
   ]
  },
  {
   "cell_type": "code",
   "execution_count": 12,
   "id": "f1edcf7f-cd8c-4d99-a9d8-bbe41630346c",
   "metadata": {},
   "outputs": [],
   "source": [
    "filebase = '/global/cfs/cdirs/desi/cosmosim/KP45/MC/Clustering/AbacusSummit/CubicBox/LRG/Xi/Pre/jmena/'"
   ]
  },
  {
   "cell_type": "code",
   "execution_count": 13,
   "id": "7f6b0569-a341-4988-b090-3fcf96471e7e",
   "metadata": {},
   "outputs": [],
   "source": [
    "ss = np.loadtxt(filebase + '/s.txt')\n",
    "nbins = len(ss)\n",
    "\n",
    "\n",
    "x0s = np.loadtxt(filebase + '/Xi_0.txt'); x0 = np.mean(x0s,axis=1)\n",
    "x2s = np.loadtxt(filebase + '/Xi_2.txt'); x2 = np.mean(x2s,axis=1)\n",
    "x4s = np.loadtxt(filebase + '/Xi_4.txt')"
   ]
  },
  {
   "cell_type": "code",
   "execution_count": 14,
   "id": "15a3b30e-809f-463d-a169-cd240ed53b9c",
   "metadata": {},
   "outputs": [],
   "source": [
    "np.savetxt('xiells_%s_mean_cubic.dat'%(user), np.array([ss,x0,x2]).T) "
   ]
  },
  {
   "cell_type": "code",
   "execution_count": null,
   "id": "4c49dae4-7b01-4d82-9c01-7d699be6375f",
   "metadata": {},
   "outputs": [],
   "source": []
  },
  {
   "cell_type": "code",
   "execution_count": 15,
   "id": "e0c7e46c-08e7-4e05-ac5a-ac67bbcd8526",
   "metadata": {},
   "outputs": [],
   "source": [
    "filebase = '/global/cfs/cdirs/desi/cosmosim/KP45/MC/Clustering/EZmock/CubicBox/LRG/Xi/jmena/'"
   ]
  },
  {
   "cell_type": "code",
   "execution_count": 16,
   "id": "3b0a91b1-5590-4cf1-894c-616bd028f5a8",
   "metadata": {},
   "outputs": [],
   "source": [
    "cov = np.loadtxt(filebase + 'cov.txt')"
   ]
  },
  {
   "cell_type": "code",
   "execution_count": 17,
   "id": "9ad52f93-e040-441b-8655-8655ce8ce757",
   "metadata": {},
   "outputs": [],
   "source": [
    "Ndat = len(ss)\n",
    "np.savetxt('xiells_%s_cov_cubic.dat'%(user),  cov[:(2*Ndat),:(2*Ndat)]) "
   ]
  },
  {
   "cell_type": "code",
   "execution_count": null,
   "id": "3d3809fc-13b9-4474-aeac-53fc78da0b31",
   "metadata": {},
   "outputs": [],
   "source": []
  }
 ],
 "metadata": {
  "kernelspec": {
   "display_name": "Cobaya-env",
   "language": "python",
   "name": "cobaya"
  },
  "language_info": {
   "codemirror_mode": {
    "name": "ipython",
    "version": 3
   },
   "file_extension": ".py",
   "mimetype": "text/x-python",
   "name": "python",
   "nbconvert_exporter": "python",
   "pygments_lexer": "ipython3",
   "version": "3.8.5"
  }
 },
 "nbformat": 4,
 "nbformat_minor": 5
}
