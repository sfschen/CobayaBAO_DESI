{
 "cells": [
  {
   "cell_type": "code",
   "execution_count": 1,
   "id": "ca451a74-6eb6-4d8b-a64e-0a86ac2972b0",
   "metadata": {},
   "outputs": [],
   "source": [
    "import numpy as np\n",
    "\n",
    "from matplotlib import pyplot as plt\n",
    "\n",
    "from pypower import BaseMatrix"
   ]
  },
  {
   "cell_type": "code",
   "execution_count": 2,
   "id": "9c62584b-5647-40fa-b46d-e955d8feb729",
   "metadata": {},
   "outputs": [
    {
     "name": "stdout",
     "output_type": "stream",
     "text": [
      "-rw-rw---- 1 jmena    desi 2.2M May 12 14:05 /global/cfs/cdirs/desi/cosmosim/KP45/MC/Clustering/AbacusSummit/CutSky/LRG/Pk/Pre/jmena/nmesh_1024/windows/window_combined_zmin0.8_zmax1.1.npy\n",
      "-rw-rw---- 1 jmena    desi 2.8M May 12 14:05 /global/cfs/cdirs/desi/cosmosim/KP45/MC/Clustering/AbacusSummit/CutSky/LRG/Pk/Pre/jmena/nmesh_1024/windows/window_combined_zmin0.4_zmax0.6.npy\n",
      "-rw-rw---- 1 jmena    desi 2.8M May 12 14:05 /global/cfs/cdirs/desi/cosmosim/KP45/MC/Clustering/AbacusSummit/CutSky/LRG/Pk/Pre/jmena/nmesh_1024/windows/window_combined_zmin0.6_zmax0.8.npy\n",
      "-rw-rw---- 1 chowlett desi  22M May 31 11:29 /global/cfs/cdirs/desi/cosmosim/KP45/MC/Clustering/AbacusSummit/CutSky/LRG/Pk/Pre/jmena/nmesh_1024/windows/window_combined_zmin0.4_zmax0.6_matrix.npy\n",
      "-rw-rw---- 1 chowlett desi 117M May 31 11:29 /global/cfs/cdirs/desi/cosmosim/KP45/MC/Clustering/AbacusSummit/CutSky/LRG/Pk/Pre/jmena/nmesh_1024/windows/window_combined_zmin0.4_zmax0.6_wideangle.npy\n",
      "-rw-rw---- 1 chowlett desi  22M May 31 11:37 /global/cfs/cdirs/desi/cosmosim/KP45/MC/Clustering/AbacusSummit/CutSky/LRG/Pk/Pre/jmena/nmesh_1024/windows/window_combined_zmin0.6_zmax0.8_matrix.npy\n",
      "-rw-rw---- 1 chowlett desi 117M May 31 11:37 /global/cfs/cdirs/desi/cosmosim/KP45/MC/Clustering/AbacusSummit/CutSky/LRG/Pk/Pre/jmena/nmesh_1024/windows/window_combined_zmin0.6_zmax0.8_wideangle.npy\n",
      "-rw-rw---- 1 chowlett desi  22M May 31 11:43 /global/cfs/cdirs/desi/cosmosim/KP45/MC/Clustering/AbacusSummit/CutSky/LRG/Pk/Pre/jmena/nmesh_1024/windows/window_combined_zmin0.8_zmax1.1_matrix.npy\n",
      "-rw-rw---- 1 chowlett desi 117M May 31 11:43 /global/cfs/cdirs/desi/cosmosim/KP45/MC/Clustering/AbacusSummit/CutSky/LRG/Pk/Pre/jmena/nmesh_1024/windows/window_combined_zmin0.8_zmax1.1_wideangle.npy\n"
     ]
    }
   ],
   "source": [
    "ls -ltrh /global/cfs/cdirs/desi/cosmosim/KP45/MC/Clustering/AbacusSummit/CutSky/LRG/Pk/Pre/jmena/nmesh_1024/windows/window_combined_zmin*"
   ]
  },
  {
   "cell_type": "code",
   "execution_count": 7,
   "id": "36bdf160-9392-46d6-9f37-cc5d54879d9a",
   "metadata": {},
   "outputs": [],
   "source": [
    "db = '/global/cfs/cdirs/desi/cosmosim/KP45/MC/Clustering/AbacusSummit/CutSky/LRG/Pk/Pre/jmena/nmesh_1024/windows/'"
   ]
  },
  {
   "cell_type": "code",
   "execution_count": 8,
   "id": "701e5ff8-24ad-4c26-a6a5-a80d480af573",
   "metadata": {},
   "outputs": [
    {
     "name": "stdout",
     "output_type": "stream",
     "text": [
      "total 432M\n",
      "-rw-rw---- 1 jmena    desi 2.8M May 12 14:05 window_small_zmin0.6_zmax0.8.npy\n",
      "-rw-rw---- 1 jmena    desi 113K May 12 14:05 window_verylarge_zmin0.8_zmax1.1.npy\n",
      "-rw-rw---- 1 jmena    desi 2.2M May 12 14:05 window_small_zmin0.8_zmax1.1.npy\n",
      "-rw-rw---- 1 jmena    desi 740K May 12 14:05 window_large_zmin0.8_zmax1.1.npy\n",
      "-rw-rw---- 1 jmena    desi 924K May 12 14:05 window_large_zmin0.6_zmax0.8.npy\n",
      "-rw-rw---- 1 jmena    desi 141K May 12 14:05 window_verylarge_zmin0.6_zmax0.8.npy\n",
      "-rw-rw---- 1 jmena    desi 2.2M May 12 14:05 window_combined_zmin0.8_zmax1.1.npy\n",
      "-rw-rw---- 1 jmena    desi 2.8M May 12 14:05 window_combined_zmin0.4_zmax0.6.npy\n",
      "-rw-rw---- 1 jmena    desi 2.8M May 12 14:05 window_combined_zmin0.6_zmax0.8.npy\n",
      "-rw-rw---- 1 jmena    desi 141K May 12 14:05 window_verylarge_zmin0.4_zmax0.6.npy\n",
      "-rw-rw---- 1 jmena    desi 2.8M May 12 14:05 window_small_zmin0.4_zmax0.6.npy\n",
      "-rw-rw---- 1 jmena    desi 924K May 12 14:05 window_large_zmin0.4_zmax0.6.npy\n",
      "-rw-rw---- 1 chowlett desi  22M May 31 11:29 window_combined_zmin0.4_zmax0.6_matrix.npy\n",
      "-rw-rw---- 1 chowlett desi 117M May 31 11:29 window_combined_zmin0.4_zmax0.6_wideangle.npy\n",
      "-rw-rw---- 1 chowlett desi  22M May 31 11:37 window_combined_zmin0.6_zmax0.8_matrix.npy\n",
      "-rw-rw---- 1 chowlett desi 117M May 31 11:37 window_combined_zmin0.6_zmax0.8_wideangle.npy\n",
      "-rw-rw---- 1 chowlett desi  22M May 31 11:43 window_combined_zmin0.8_zmax1.1_matrix.npy\n",
      "-rw-rw---- 1 chowlett desi 117M May 31 11:43 window_combined_zmin0.8_zmax1.1_wideangle.npy\n"
     ]
    }
   ],
   "source": [
    "ls -ltrh $db"
   ]
  },
  {
   "cell_type": "code",
   "execution_count": null,
   "id": "e76e5b19-22b3-4e45-b791-870a462cb059",
   "metadata": {},
   "outputs": [],
   "source": []
  },
  {
   "cell_type": "code",
   "execution_count": 9,
   "id": "5a0dfa77-0d34-4ac1-a49d-86c6f8d2e3a8",
   "metadata": {},
   "outputs": [],
   "source": [
    "dk = 0.005\n",
    "zmns = [46, 68, 81]\n",
    "zbins = [ (0.4, 0.6), (0.6, 0.8), (0.8, 1.1) ]"
   ]
  },
  {
   "cell_type": "code",
   "execution_count": null,
   "id": "87a562ff-a094-49a2-b36b-1b5301e951bb",
   "metadata": {},
   "outputs": [],
   "source": []
  },
  {
   "cell_type": "code",
   "execution_count": 10,
   "id": "a55847b1-1ca5-42a7-a4cc-c2a623ac0888",
   "metadata": {},
   "outputs": [
    {
     "name": "stdout",
     "output_type": "stream",
     "text": [
      "window_combined_zmin0.4_zmax0.6_matrix.npy\n",
      "window_combined_zmin0.4_zmax0.6_wideangle.npy\n",
      "window_combined_zmin0.6_zmax0.8_matrix.npy\n",
      "window_combined_zmin0.6_zmax0.8_wideangle.npy\n",
      "window_combined_zmin0.8_zmax1.1_matrix.npy\n",
      "window_combined_zmin0.8_zmax1.1_wideangle.npy\n"
     ]
    }
   ],
   "source": [
    "for ii in range(3):\n",
    "\n",
    "    znm = zmns[ii]\n",
    "    zmin, zmax = zbins[ii]\n",
    "    \n",
    "    winfile = 'window_combined_zmin%.1f_zmax%.1f'%(zmin,zmax)\n",
    "\n",
    "    winmatname = winfile + \"_matrix.npy\"\n",
    "    wideanglename = winfile + \"_wideangle.npy\"\n",
    "    \n",
    "    print(winmatname)\n",
    "    print(wideanglename)\n",
    "    \n",
    "    wm = BaseMatrix.load(db+winmatname)\n",
    "    wam = BaseMatrix.load(db+wideanglename)\n",
    "    \n",
    "    \n",
    "    np.savetxt('pkells_win_%d.dat'%(znm), wm.value)\n",
    "    np.savetxt('pkells_wa_%d.dat'%(znm), wam.value)\n",
    "    np.savetxt('pkells_kin_%d.dat'%(znm), wm.xin[0])"
   ]
  },
  {
   "cell_type": "code",
   "execution_count": 9,
   "id": "62e133c4-1f7b-4143-80b0-ebd19d1a1ae8",
   "metadata": {},
   "outputs": [
    {
     "data": {
      "text/plain": [
       "(2766, 5532)"
      ]
     },
     "execution_count": 9,
     "metadata": {},
     "output_type": "execute_result"
    }
   ],
   "source": [
    "wam.value.shape"
   ]
  },
  {
   "cell_type": "code",
   "execution_count": 42,
   "id": "3ff0282e-1e3d-4b78-8e6c-af5fae20475c",
   "metadata": {},
   "outputs": [
    {
     "data": {
      "text/plain": [
       "(2766, 5532)"
      ]
     },
     "execution_count": 42,
     "metadata": {},
     "output_type": "execute_result"
    }
   ],
   "source": [
    "wam.value.shape"
   ]
  },
  {
   "cell_type": "code",
   "execution_count": 22,
   "id": "6aca8fae-0bbb-49c2-9d74-7fe48992f40f",
   "metadata": {},
   "outputs": [
    {
     "data": {
      "text/plain": [
       "(922,)"
      ]
     },
     "execution_count": 22,
     "metadata": {},
     "output_type": "execute_result"
    }
   ],
   "source": [
    "wam.xout[0].shape"
   ]
  },
  {
   "cell_type": "code",
   "execution_count": 10,
   "id": "52ef3539-c6e2-4272-bf54-6cff1151b75a",
   "metadata": {},
   "outputs": [
    {
     "data": {
      "text/plain": [
       "(922,)"
      ]
     },
     "execution_count": 10,
     "metadata": {},
     "output_type": "execute_result"
    }
   ],
   "source": [
    "wam.xin[0].shape"
   ]
  },
  {
   "cell_type": "code",
   "execution_count": null,
   "id": "2b02a6ef-c5b2-4ffb-b215-c7eb68cd4f83",
   "metadata": {},
   "outputs": [],
   "source": []
  },
  {
   "cell_type": "code",
   "execution_count": null,
   "id": "70e3ab00-d7d2-46fc-81ed-61e943c43ab5",
   "metadata": {},
   "outputs": [],
   "source": []
  },
  {
   "cell_type": "code",
   "execution_count": null,
   "id": "10c37005-c92c-4a1f-b866-71f99cbebd4e",
   "metadata": {},
   "outputs": [],
   "source": []
  },
  {
   "cell_type": "code",
   "execution_count": null,
   "id": "7bc61616-fbe1-4111-a81c-478e5ee25520",
   "metadata": {},
   "outputs": [],
   "source": []
  }
 ],
 "metadata": {
  "kernelspec": {
   "display_name": "desi",
   "language": "python",
   "name": "desi"
  },
  "language_info": {
   "codemirror_mode": {
    "name": "ipython",
    "version": 3
   },
   "file_extension": ".py",
   "mimetype": "text/x-python",
   "name": "python",
   "nbconvert_exporter": "python",
   "pygments_lexer": "ipython3",
   "version": "3.8.8"
  }
 },
 "nbformat": 4,
 "nbformat_minor": 5
}
