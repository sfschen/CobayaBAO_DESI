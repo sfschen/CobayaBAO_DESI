{
 "cells": [
  {
   "cell_type": "code",
   "execution_count": 1,
   "id": "e0e8f8b3-94df-4c67-b7a2-72c46559a27b",
   "metadata": {},
   "outputs": [],
   "source": [
    "import numpy as np\n",
    "\n",
    "from matplotlib import pyplot as plt"
   ]
  },
  {
   "cell_type": "code",
   "execution_count": null,
   "id": "df569394-26f7-4450-ae21-97144ba2fd40",
   "metadata": {},
   "outputs": [],
   "source": []
  },
  {
   "cell_type": "code",
   "execution_count": 2,
   "id": "6b8cbe9c-974d-4647-8e5a-5c5c4399d94e",
   "metadata": {},
   "outputs": [],
   "source": [
    "db = '/global/cfs/cdirs/desi/cosmosim/KP45/MC/Clustering/AbacusSummit/CutSky/LRG/Pk/Pre/jmena/nmesh_1024/'"
   ]
  },
  {
   "cell_type": "code",
   "execution_count": null,
   "id": "f105412d-e809-4fea-92a7-bf6d4f88e20b",
   "metadata": {},
   "outputs": [],
   "source": []
  },
  {
   "cell_type": "code",
   "execution_count": 4,
   "id": "9aa0a0e2-fe76-4582-8e3e-1bfcb22e7b05",
   "metadata": {},
   "outputs": [],
   "source": [
    "zmns = [46, 68, 81]\n",
    "zbins = [ (0.4, 0.6), (0.6, 0.8), (0.8, 1.1) ]"
   ]
  },
  {
   "cell_type": "code",
   "execution_count": null,
   "id": "9ff2edd3-54b9-49f9-886b-8c82b2ebdd2e",
   "metadata": {},
   "outputs": [],
   "source": []
  },
  {
   "cell_type": "code",
   "execution_count": 5,
   "id": "ace347ea-7bc3-41ac-8db0-f2c274e23dad",
   "metadata": {},
   "outputs": [],
   "source": [
    "# First grab multipoles"
   ]
  },
  {
   "cell_type": "code",
   "execution_count": 6,
   "id": "71c7979c-95a0-41c5-a8ca-231db2c6665b",
   "metadata": {},
   "outputs": [],
   "source": [
    "dk = 0.005\n",
    "\n",
    "ks = np.loadtxt(db + 'dk%.3f/k.txt'%(dk))\n",
    "nbins = len(ks)\n",
    "\n",
    "kmaxs = dk * (1 + np.arange(nbins))\n",
    "kmins = dk * (0 + np.arange(nbins))\n",
    "kcens = dk * (0.5 + np.arange(nbins))\n",
    "\n",
    "for ii in range(3):\n",
    "    zmn = zmns[ii]\n",
    "    zmin, zmax = zbins[ii]\n",
    "\n",
    "    p0s = np.loadtxt(db + 'dk%.3f/Pk_0_zmin%.1f_zmax%.1f.txt'%(dk,zmin,zmax))\n",
    "    p0 = np.mean(p0s, axis=1)\n",
    "\n",
    "    p2s = np.loadtxt(db + 'dk%.3f/Pk_2_zmin%.1f_zmax%.1f.txt'%(dk,zmin,zmax))\n",
    "    p2 = np.mean(p2s, axis=1)\n",
    "\n",
    "\n",
    "    np.savetxt('pkells_mean_%2d.dat'%(zmn), np.array([kcens, p0, p2]).T)"
   ]
  },
  {
   "cell_type": "code",
   "execution_count": null,
   "id": "023427b5-ff12-4c3b-9843-5a839f722c6f",
   "metadata": {},
   "outputs": [],
   "source": []
  },
  {
   "cell_type": "code",
   "execution_count": 7,
   "id": "271b1497-c350-4862-bcc4-bbee1164b1bd",
   "metadata": {},
   "outputs": [],
   "source": [
    "# Now get the covariances:\n",
    "db = '/global/cfs/cdirs/desi/cosmosim/KP45/MC/Clustering/EZmock/CutSky/LRG/Pk/jmena/nmesh_1024/'\n",
    "\n",
    "for ii in range(3):\n",
    "    zmn = zmns[ii]\n",
    "    zmin, zmax = zbins[ii]\n",
    "\n",
    "    covmat = np.loadtxt(db + 'dk%.3f/cov_zmin%.1f_zmax%.1f.txt'%(dk,zmin,zmax))\n",
    "    np.savetxt('pkells_cov_%2d.dat'%(zmn), covmat[:(2*nbins),:(2*nbins)])"
   ]
  },
  {
   "cell_type": "code",
   "execution_count": 8,
   "id": "b7301329-ab0a-42ed-b237-a137133d6f36",
   "metadata": {},
   "outputs": [
    {
     "data": {
      "text/plain": [
       "(300, 300)"
      ]
     },
     "execution_count": 8,
     "metadata": {},
     "output_type": "execute_result"
    }
   ],
   "source": [
    "covmat.shape"
   ]
  },
  {
   "cell_type": "code",
   "execution_count": null,
   "id": "349314bc-1514-4d73-a184-fd445bfb499a",
   "metadata": {},
   "outputs": [],
   "source": []
  },
  {
   "cell_type": "code",
   "execution_count": null,
   "id": "8b3ff959-8d75-4174-9632-fdceec5f5789",
   "metadata": {},
   "outputs": [],
   "source": []
  },
  {
   "cell_type": "code",
   "execution_count": null,
   "id": "0c8a635a-f010-485d-b836-3d0f7200382f",
   "metadata": {},
   "outputs": [],
   "source": []
  },
  {
   "cell_type": "code",
   "execution_count": null,
   "id": "4663eac5-30b1-43da-bcf0-7e67687ca862",
   "metadata": {},
   "outputs": [],
   "source": []
  }
 ],
 "metadata": {
  "kernelspec": {
   "display_name": "Cobaya-env",
   "language": "python",
   "name": "cobaya"
  },
  "language_info": {
   "codemirror_mode": {
    "name": "ipython",
    "version": 3
   },
   "file_extension": ".py",
   "mimetype": "text/x-python",
   "name": "python",
   "nbconvert_exporter": "python",
   "pygments_lexer": "ipython3",
   "version": "3.8.5"
  }
 },
 "nbformat": 4,
 "nbformat_minor": 5
}
