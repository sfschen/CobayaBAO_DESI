{
 "cells": [
  {
   "cell_type": "code",
   "execution_count": 1,
   "id": "2f42cfd2-d833-4baa-bfa3-5e2873ce804a",
   "metadata": {},
   "outputs": [],
   "source": [
    "import numpy as np\n",
    "\n",
    "from matplotlib import pyplot as plt"
   ]
  },
  {
   "cell_type": "code",
   "execution_count": null,
   "id": "28de7aee-3146-44db-a0ea-d515ddb03dcf",
   "metadata": {},
   "outputs": [],
   "source": []
  },
  {
   "cell_type": "markdown",
   "id": "51791362-cc3b-45a8-aa7f-a91a23e70a41",
   "metadata": {},
   "source": [
    "### Load the correlation function mean"
   ]
  },
  {
   "cell_type": "code",
   "execution_count": 10,
   "id": "3458298c-cef9-4d00-bfc5-fd1b1c6858b7",
   "metadata": {},
   "outputs": [],
   "source": [
    "basedir = '/global/cfs/cdirs/desi/cosmosim/KP45/MC/Clustering/AbacusSummit/CubicBox/ELG/Xi/Post/lhior/RecSym_nmesh1024/txt_rebinned/'"
   ]
  },
  {
   "cell_type": "code",
   "execution_count": null,
   "id": "1ac22384-bad4-46bd-a1c2-c8d5959c3a05",
   "metadata": {},
   "outputs": [],
   "source": []
  },
  {
   "cell_type": "code",
   "execution_count": 23,
   "id": "1dc80873-2d45-49f1-bf4d-482437f2067a",
   "metadata": {},
   "outputs": [],
   "source": [
    "dat = 0\n",
    "\n",
    "for ii in range(25):\n",
    "    dat += np.loadtxt(basedir + 'Xi_AbacusSummit_base_c000_ph' + str(ii).zfill(3) +  '.txt') / 25"
   ]
  },
  {
   "cell_type": "code",
   "execution_count": 29,
   "id": "021ade09-0e8a-4127-bdfb-c44f923f356f",
   "metadata": {},
   "outputs": [],
   "source": [
    "np.savetxt('xiells_recsym_mean_elg_cubic.dat', np.array([dat[:,0], dat[:,2], dat[:,3]]).T)"
   ]
  },
  {
   "cell_type": "code",
   "execution_count": 32,
   "id": "b1a2f959-0daa-49e9-a3cc-54b8ee4175aa",
   "metadata": {},
   "outputs": [
    {
     "data": {
      "text/plain": [
       "(50, 5)"
      ]
     },
     "execution_count": 32,
     "metadata": {},
     "output_type": "execute_result"
    }
   ],
   "source": [
    "dat.shape"
   ]
  },
  {
   "cell_type": "markdown",
   "id": "7de682a4-a7c4-4f87-b87e-b66b292ad4fe",
   "metadata": {},
   "source": [
    "### Load the correlation function covariance"
   ]
  },
  {
   "cell_type": "code",
   "execution_count": 30,
   "id": "4e2ed67e-76b3-451b-a928-a27c10c4d8e3",
   "metadata": {},
   "outputs": [],
   "source": [
    "basedir = '/global/homes/c/crisjagq/HOD_tests/covariance_matrices/EZMocks/'\n",
    "\n",
    "covmat = np.loadtxt(basedir + 'EZmocks_ELG_CubicBox_z1p1_Xi_cov_matrix_reshaped-pre.txt')"
   ]
  },
  {
   "cell_type": "code",
   "execution_count": 31,
   "id": "cc0b97dc-92e3-405a-a49f-53a9c121e3a9",
   "metadata": {},
   "outputs": [
    {
     "data": {
      "text/plain": [
       "(150, 150)"
      ]
     },
     "execution_count": 31,
     "metadata": {},
     "output_type": "execute_result"
    }
   ],
   "source": [
    "covmat.shape"
   ]
  },
  {
   "cell_type": "code",
   "execution_count": 33,
   "id": "0bdc47ad-0702-445d-9012-1184757ea930",
   "metadata": {},
   "outputs": [],
   "source": [
    "np.savetxt('xiells_prerecon_cov_reduced_elg_cubic.dat', covmat[:100,:100]/25)\n",
    "np.savetxt('xiells_prerecon_cov_elg_cubic.dat', covmat[:100,:100])"
   ]
  },
  {
   "cell_type": "code",
   "execution_count": null,
   "id": "cdc1ad88-12aa-46cc-90e3-43f731e45f0b",
   "metadata": {},
   "outputs": [],
   "source": []
  }
 ],
 "metadata": {
  "kernelspec": {
   "display_name": "Cobaya-env",
   "language": "python",
   "name": "cobaya"
  },
  "language_info": {
   "codemirror_mode": {
    "name": "ipython",
    "version": 3
   },
   "file_extension": ".py",
   "mimetype": "text/x-python",
   "name": "python",
   "nbconvert_exporter": "python",
   "pygments_lexer": "ipython3",
   "version": "3.8.5"
  }
 },
 "nbformat": 4,
 "nbformat_minor": 5
}
