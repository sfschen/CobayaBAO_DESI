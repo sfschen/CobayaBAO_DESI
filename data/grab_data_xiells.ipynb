{
 "cells": [
  {
   "cell_type": "code",
   "execution_count": 8,
   "id": "e071cddc-22cb-4f94-95b9-4cdee492949c",
   "metadata": {},
   "outputs": [],
   "source": [
    "import numpy as np\n",
    "\n",
    "from matplotlib import pyplot as plt"
   ]
  },
  {
   "cell_type": "code",
   "execution_count": null,
   "id": "3485ce67-50c9-4311-a25a-9b1f662dd9ce",
   "metadata": {},
   "outputs": [],
   "source": []
  },
  {
   "cell_type": "code",
   "execution_count": 37,
   "id": "3d709f6e-785c-46eb-a264-b7e77fc88ec5",
   "metadata": {},
   "outputs": [],
   "source": [
    "# Correlation Functions\n",
    "db = '/global/cfs/cdirs/desi/cosmosim/KP45/MC/Clustering/AbacusSummit/CutSky/LRG/Xi/Pre/csaulder/'\n",
    "\n",
    "nbox = 25\n",
    "znms = ['46','68','81']\n",
    "\n",
    "for znm in znms:\n",
    "    \n",
    "    dats = 0\n",
    "    \n",
    "    for ii in range(nbox):\n",
    "        dats += np.loadtxt(db + 'CF_multipoles/results_realization%03d_rand20_%s.dat'%(ii,znm))/nbox\n",
    "        \n",
    "    np.savetxt('xiells_mean_%s.dat'%(znm),dats[:,[0,2,3,4]])\n",
    "    \n",
    "    # Covariance matrix\n",
    "    covmat = np.loadtxt(db + 'cov/%s_cov.dat'%(znm))\n",
    "    np.savetxt('xiells_cov_%s.dat'%(znm), covmat[:-50,:-50])"
   ]
  },
  {
   "cell_type": "code",
   "execution_count": 42,
   "id": "b7307d6e-1f7a-453a-8423-757f837e26b7",
   "metadata": {},
   "outputs": [
    {
     "data": {
      "text/plain": [
       "(30.0, 150.0)"
      ]
     },
     "execution_count": 42,
     "metadata": {},
     "output_type": "execute_result"
    },
    {
     "data": {
      "image/png": "[encoded data removed]",
      "text/plain": [
       "<Figure size 432x288 with 1 Axes>"
      ]
     },
     "metadata": {
      "needs_background": "light"
     },
     "output_type": "display_data"
    }
   ],
   "source": [
    "plt.errorbar(dats[:,0], dats[:,0]**2 * dats[:,2], yerr=dats[:,0]**2 * np.diag(covmat)[:50]**0.5)\n",
    "plt.errorbar(dats[:,0], -dats[:,0]**2 * dats[:,3], yerr=dats[:,0]**2 * np.diag(covmat)[50:100]**0.5)\n",
    "\n",
    "plt.xlim(30, 150)"
   ]
  },
  {
   "cell_type": "code",
   "execution_count": 33,
   "id": "8d5cc447-95f3-49b3-8f59-605e24dc927a",
   "metadata": {},
   "outputs": [
    {
     "data": {
      "text/plain": [
       "(50, 5)"
      ]
     },
     "execution_count": 33,
     "metadata": {},
     "output_type": "execute_result"
    }
   ],
   "source": [
    "dats.shape"
   ]
  },
  {
   "cell_type": "code",
   "execution_count": 26,
   "id": "ef0372e0-712b-464f-950a-a86e0d37feab",
   "metadata": {},
   "outputs": [],
   "source": [
    "covmat = np.loadtxt(db + 'cov/%s_cov.dat'%(znm))"
   ]
  },
  {
   "cell_type": "code",
   "execution_count": 35,
   "id": "e0425339-9cde-4c43-b447-aa9a5461e1cc",
   "metadata": {},
   "outputs": [
    {
     "data": {
      "text/plain": [
       "array([9.63615899e-05, 1.78728161e-05, 7.03095017e-06, 4.27289512e-06,\n",
       "       3.07482720e-06, 2.32763687e-06, 1.86329445e-06, 1.50819286e-06,\n",
       "       1.19275263e-06, 1.00198427e-06, 8.57707532e-07, 7.20268311e-07,\n",
       "       6.28133331e-07, 5.55038040e-07, 4.96521786e-07, 4.47264859e-07,\n",
       "       3.93677138e-07, 3.41849649e-07, 2.95028506e-07, 2.64063937e-07,\n",
       "       2.39337485e-07, 2.12587675e-07, 1.93324730e-07, 1.76684641e-07,\n",
       "       1.58360989e-07, 1.47030856e-07, 1.37462127e-07, 1.30105608e-07,\n",
       "       1.21169239e-07, 1.14699711e-07, 1.09306104e-07, 1.01109310e-07,\n",
       "       9.53439296e-08, 9.15351725e-08, 8.76505887e-08, 8.32472760e-08,\n",
       "       7.90891075e-08, 7.62471252e-08, 7.17239581e-08, 6.59615490e-08,\n",
       "       6.08150811e-08, 5.64577208e-08, 5.30361684e-08, 5.11173337e-08,\n",
       "       5.12297247e-08, 5.14440442e-08, 5.04485870e-08, 4.94987995e-08,\n",
       "       4.75752862e-08, 4.55004042e-08, 6.17068525e-05, 1.62902727e-05,\n",
       "       8.00645791e-06, 4.73234691e-06, 3.08179557e-06, 2.20453806e-06,\n",
       "       1.70108365e-06, 1.40765036e-06, 1.25504065e-06, 1.13735967e-06,\n",
       "       1.04708061e-06, 9.48646352e-07, 8.66007102e-07, 7.98148029e-07,\n",
       "       7.55801495e-07, 7.11255321e-07, 6.49663331e-07, 6.11193858e-07,\n",
       "       5.82446272e-07, 5.39910000e-07, 5.15820768e-07, 4.85623920e-07,\n",
       "       4.84868324e-07, 4.70325108e-07, 4.56651254e-07, 4.45476031e-07,\n",
       "       4.20211292e-07, 4.05257854e-07, 3.79640413e-07, 3.48404520e-07,\n",
       "       3.22864913e-07, 3.07909783e-07, 2.97424282e-07, 2.86486653e-07,\n",
       "       2.82288971e-07, 2.75900633e-07, 2.70158830e-07, 2.53182977e-07,\n",
       "       2.43740150e-07, 2.38278634e-07, 2.33291430e-07, 2.28894081e-07,\n",
       "       2.19420522e-07, 2.10079578e-07, 2.01531750e-07, 1.99466881e-07,\n",
       "       1.95813253e-07, 1.86257357e-07, 1.72712932e-07, 1.65439342e-07])"
      ]
     },
     "execution_count": 35,
     "metadata": {},
     "output_type": "execute_result"
    }
   ],
   "source": [
    "np.diag(covmat[:-50,:-50])"
   ]
  },
  {
   "cell_type": "code",
   "execution_count": 36,
   "id": "87efb47e-0865-4d8e-b449-b8686d205c0d",
   "metadata": {},
   "outputs": [
    {
     "data": {
      "text/plain": [
       "array([9.63615899e-05, 1.78728161e-05, 7.03095017e-06, 4.27289512e-06,\n",
       "       3.07482720e-06, 2.32763687e-06, 1.86329445e-06, 1.50819286e-06,\n",
       "       1.19275263e-06, 1.00198427e-06, 8.57707532e-07, 7.20268311e-07,\n",
       "       6.28133331e-07, 5.55038040e-07, 4.96521786e-07, 4.47264859e-07,\n",
       "       3.93677138e-07, 3.41849649e-07, 2.95028506e-07, 2.64063937e-07,\n",
       "       2.39337485e-07, 2.12587675e-07, 1.93324730e-07, 1.76684641e-07,\n",
       "       1.58360989e-07, 1.47030856e-07, 1.37462127e-07, 1.30105608e-07,\n",
       "       1.21169239e-07, 1.14699711e-07, 1.09306104e-07, 1.01109310e-07,\n",
       "       9.53439296e-08, 9.15351725e-08, 8.76505887e-08, 8.32472760e-08,\n",
       "       7.90891075e-08, 7.62471252e-08, 7.17239581e-08, 6.59615490e-08,\n",
       "       6.08150811e-08, 5.64577208e-08, 5.30361684e-08, 5.11173337e-08,\n",
       "       5.12297247e-08, 5.14440442e-08, 5.04485870e-08, 4.94987995e-08,\n",
       "       4.75752862e-08, 4.55004042e-08, 6.17068525e-05, 1.62902727e-05,\n",
       "       8.00645791e-06, 4.73234691e-06, 3.08179557e-06, 2.20453806e-06,\n",
       "       1.70108365e-06, 1.40765036e-06, 1.25504065e-06, 1.13735967e-06,\n",
       "       1.04708061e-06, 9.48646352e-07, 8.66007102e-07, 7.98148029e-07,\n",
       "       7.55801495e-07, 7.11255321e-07, 6.49663331e-07, 6.11193858e-07,\n",
       "       5.82446272e-07, 5.39910000e-07, 5.15820768e-07, 4.85623920e-07,\n",
       "       4.84868324e-07, 4.70325108e-07, 4.56651254e-07, 4.45476031e-07,\n",
       "       4.20211292e-07, 4.05257854e-07, 3.79640413e-07, 3.48404520e-07,\n",
       "       3.22864913e-07, 3.07909783e-07, 2.97424282e-07, 2.86486653e-07,\n",
       "       2.82288971e-07, 2.75900633e-07, 2.70158830e-07, 2.53182977e-07,\n",
       "       2.43740150e-07, 2.38278634e-07, 2.33291430e-07, 2.28894081e-07,\n",
       "       2.19420522e-07, 2.10079578e-07, 2.01531750e-07, 1.99466881e-07,\n",
       "       1.95813253e-07, 1.86257357e-07, 1.72712932e-07, 1.65439342e-07,\n",
       "       5.19527368e-05, 4.82610818e-06, 2.48582313e-06, 1.93109899e-06,\n",
       "       1.56081021e-06, 1.19882778e-06, 1.02534285e-06, 8.66719031e-07,\n",
       "       7.72833438e-07, 7.04208799e-07, 6.90028059e-07, 6.45312347e-07,\n",
       "       6.04555466e-07, 6.10450026e-07, 5.88195887e-07, 5.70111094e-07,\n",
       "       5.63623987e-07, 5.51918471e-07, 5.24985191e-07, 5.02502750e-07,\n",
       "       4.99527734e-07, 4.69072485e-07, 4.63470029e-07, 4.41075671e-07,\n",
       "       4.31282929e-07, 4.11217731e-07, 3.81544909e-07, 3.58738163e-07,\n",
       "       3.52748056e-07, 3.37667562e-07, 3.32298875e-07, 3.39510913e-07,\n",
       "       3.25812775e-07, 3.16105533e-07, 3.12953884e-07, 2.99488885e-07,\n",
       "       2.98832793e-07, 2.95516146e-07, 2.86345149e-07, 2.83313975e-07,\n",
       "       2.80758690e-07, 2.71870422e-07, 2.61119558e-07, 2.47119025e-07,\n",
       "       2.45864331e-07, 2.40626553e-07, 2.30911570e-07, 2.22507993e-07,\n",
       "       2.15761233e-07, 2.10113515e-07])"
      ]
     },
     "execution_count": 36,
     "metadata": {},
     "output_type": "execute_result"
    }
   ],
   "source": [
    "np.diag(covmat)"
   ]
  },
  {
   "cell_type": "code",
   "execution_count": 29,
   "id": "663f4512-8d2a-4165-a4a3-bddb52977249",
   "metadata": {},
   "outputs": [
    {
     "data": {
      "text/plain": [
       "'81'"
      ]
     },
     "execution_count": 29,
     "metadata": {},
     "output_type": "execute_result"
    }
   ],
   "source": [
    "znm"
   ]
  },
  {
   "cell_type": "code",
   "execution_count": null,
   "id": "6e32507c-0be3-49f8-ab89-90d4bc2bc672",
   "metadata": {},
   "outputs": [],
   "source": []
  }
 ],
 "metadata": {
  "kernelspec": {
   "display_name": "Cobaya-env",
   "language": "python",
   "name": "cobaya"
  },
  "language_info": {
   "codemirror_mode": {
    "name": "ipython",
    "version": 3
   },
   "file_extension": ".py",
   "mimetype": "text/x-python",
   "name": "python",
   "nbconvert_exporter": "python",
   "pygments_lexer": "ipython3",
   "version": "3.8.5"
  }
 },
 "nbformat": 4,
 "nbformat_minor": 5
}
