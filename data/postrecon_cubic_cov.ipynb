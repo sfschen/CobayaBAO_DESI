{
 "cells": [
  {
   "cell_type": "code",
   "execution_count": 1,
   "id": "b52a40fc-9d15-47dc-9558-578390026b39",
   "metadata": {},
   "outputs": [],
   "source": [
    "import numpy as np\n",
    "\n",
    "from matplotlib import pyplot as plt"
   ]
  },
  {
   "cell_type": "code",
   "execution_count": null,
   "id": "fb46ba86-aac3-4b57-9810-3b1fe4240753",
   "metadata": {},
   "outputs": [],
   "source": []
  },
  {
   "cell_type": "markdown",
   "id": "eb3fb0a7-b70c-423c-be71-c2d709f3d1f4",
   "metadata": {},
   "source": [
    "Power Spectrum"
   ]
  },
  {
   "cell_type": "code",
   "execution_count": 2,
   "id": "861c6c7c-c940-46a1-8cb0-a3eaeff61b68",
   "metadata": {},
   "outputs": [],
   "source": [
    "pkdat = np.loadtxt('pkells_recsym_mean_cubic.dat')"
   ]
  },
  {
   "cell_type": "code",
   "execution_count": null,
   "id": "4ef318c1-4319-42b7-9372-f1e534621310",
   "metadata": {},
   "outputs": [],
   "source": []
  },
  {
   "cell_type": "code",
   "execution_count": null,
   "id": "d5a5deea-1543-49d4-95c0-5b49924f6f94",
   "metadata": {},
   "outputs": [],
   "source": []
  },
  {
   "cell_type": "code",
   "execution_count": null,
   "id": "77b76505-1bea-426b-993f-efe75138909d",
   "metadata": {},
   "outputs": [],
   "source": []
  },
  {
   "cell_type": "code",
   "execution_count": 6,
   "id": "59fb882d-6acd-41be-b93f-ed44247904c3",
   "metadata": {},
   "outputs": [],
   "source": [
    "basedir = '/global/cfs/cdirs/desi/cosmosim/KP45/MC/Clustering/EZmock/CubicBox/LRG/Pk/Post/forero/fiducial_settings/dk0.005/z0.800/'\n",
    "file_base = 'EZmock_B2000G512Z0.8N8015724_b0.385d4r169c0.3_seed'"
   ]
  },
  {
   "cell_type": "code",
   "execution_count": null,
   "id": "cb05fac2-7d9e-4a0f-af06-08664865e182",
   "metadata": {},
   "outputs": [],
   "source": []
  },
  {
   "cell_type": "code",
   "execution_count": null,
   "id": "7eb4626c-4047-4d66-ba2f-48f58a5bfd2d",
   "metadata": {},
   "outputs": [],
   "source": []
  },
  {
   "cell_type": "code",
   "execution_count": 23,
   "id": "b01c094e-bcd2-4640-b066-e32d11faf798",
   "metadata": {},
   "outputs": [],
   "source": [
    "nbins = 100\n",
    "nmocks = 1000\n",
    "\n",
    "p0s = np.zeros( (nmocks, nbins) )\n",
    "p2s = np.zeros( (nmocks, nbins) )\n",
    "p4s = np.zeros( (nmocks, nbins) )\n",
    "\n",
    "\n",
    "for ii, seed in enumerate(np.arange(1,1001,1)):\n",
    "    \n",
    "    #print(seed)\n",
    "\n",
    "    seed_dat = np.load(basedir + file_base + '%d/'%(seed) + 'sym_pk.pkl.npy', allow_pickle=True)\n",
    "    \n",
    "    wnorm = seed_dat[()]['poles']['wnorm']\n",
    "    bin_edges = seed_dat[()]['poles']['edges'][0]\n",
    "    kcens = 0.5 * (bin_edges[:-1] + bin_edges[1:])[:nbins]\n",
    "    pells = (seed_dat[()]['poles']['power_nonorm'][:,:nbins] / wnorm).real\n",
    "    p0s[ii,:] = pells[0,:]\n",
    "    p2s[ii,:] = pells[1,:]\n",
    "    p4s[ii,:] = pells[2,:]"
   ]
  },
  {
   "cell_type": "code",
   "execution_count": null,
   "id": "b140a331-a1aa-4cad-85d4-a5ba333ef702",
   "metadata": {},
   "outputs": [],
   "source": []
  },
  {
   "cell_type": "code",
   "execution_count": 26,
   "id": "2d0cc955-cd34-4ee0-b8a2-2cdfbb91bf77",
   "metadata": {},
   "outputs": [],
   "source": [
    "dvecs = np.hstack( (p0s, p2s) )\n",
    "covmat = np.cov(dvecs.T, ddof=1)"
   ]
  },
  {
   "cell_type": "code",
   "execution_count": null,
   "id": "08ee96b3-9140-487d-b13b-651c08908e15",
   "metadata": {},
   "outputs": [],
   "source": []
  },
  {
   "cell_type": "code",
   "execution_count": 28,
   "id": "71435e2c-fecb-4047-8094-35aa257b5c5b",
   "metadata": {},
   "outputs": [],
   "source": [
    "np.savetxt('pkells_recsym_cov_postrecon_cubic.txt', covmat)"
   ]
  },
  {
   "cell_type": "code",
   "execution_count": null,
   "id": "876a77d2-c715-4897-9765-181b3d849a08",
   "metadata": {},
   "outputs": [],
   "source": []
  },
  {
   "cell_type": "code",
   "execution_count": 35,
   "id": "7d2e9db2-f702-4218-8f10-e0495368a12d",
   "metadata": {},
   "outputs": [
    {
     "ename": "TypeError",
     "evalue": "file must have 'read' and 'readline' attributes",
     "output_type": "error",
     "traceback": [
      "\u001b[0;31m---------------------------------------------------------------------------\u001b[0m",
      "\u001b[0;31mTypeError\u001b[0m                                 Traceback (most recent call last)",
      "\u001b[0;32m<ipython-input-35-58aff94db422>\u001b[0m in \u001b[0;36m<module>\u001b[0;34m\u001b[0m\n\u001b[1;32m      1\u001b[0m \u001b[0;32mimport\u001b[0m \u001b[0mpickle\u001b[0m\u001b[0;34m\u001b[0m\u001b[0;34m\u001b[0m\u001b[0m\n\u001b[1;32m      2\u001b[0m \u001b[0;34m\u001b[0m\u001b[0m\n\u001b[0;32m----> 3\u001b[0;31m \u001b[0mxi_dict\u001b[0m \u001b[0;34m=\u001b[0m \u001b[0mpickle\u001b[0m\u001b[0;34m.\u001b[0m\u001b[0mload\u001b[0m\u001b[0;34m(\u001b[0m\u001b[0;34m'/global/cscratch1/sd/sfschen/CobayaBAO_DESI/data/desi_kp4_abacus_cubicbox_xi_lrg.pkl'\u001b[0m\u001b[0;34m)\u001b[0m\u001b[0;34m\u001b[0m\u001b[0;34m\u001b[0m\u001b[0m\n\u001b[0m",
      "\u001b[0;31mTypeError\u001b[0m: file must have 'read' and 'readline' attributes"
     ]
    }
   ],
   "source": [
    "import pickle\n",
    "\n",
    "xi_dict = pickle.load('/global/cscratch1/sd/sfschen/CobayaBAO_DESI/data/desi_kp4_abacus_cubicbox_xi_lrg.pkl')"
   ]
  },
  {
   "cell_type": "code",
   "execution_count": null,
   "id": "a9330145-acbe-4b73-9ddd-dce0f8a0c239",
   "metadata": {},
   "outputs": [],
   "source": []
  },
  {
   "cell_type": "code",
   "execution_count": null,
   "id": "f6e21365-090e-42d5-a5d2-b81db6a8d8ea",
   "metadata": {},
   "outputs": [],
   "source": []
  },
  {
   "cell_type": "code",
   "execution_count": null,
   "id": "08c289ac-7a3a-4bda-9749-752123e3875c",
   "metadata": {},
   "outputs": [],
   "source": []
  }
 ],
 "metadata": {
  "kernelspec": {
   "display_name": "Cobaya-env",
   "language": "python",
   "name": "cobaya"
  },
  "language_info": {
   "codemirror_mode": {
    "name": "ipython",
    "version": 3
   },
   "file_extension": ".py",
   "mimetype": "text/x-python",
   "name": "python",
   "nbconvert_exporter": "python",
   "pygments_lexer": "ipython3",
   "version": "3.8.5"
  }
 },
 "nbformat": 4,
 "nbformat_minor": 5
}
