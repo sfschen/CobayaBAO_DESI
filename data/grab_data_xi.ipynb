{
 "cells": [
  {
   "cell_type": "code",
   "execution_count": 4,
   "id": "e0e8f8b3-94df-4c67-b7a2-72c46559a27b",
   "metadata": {},
   "outputs": [],
   "source": [
    "import numpy as np\n",
    "\n",
    "from matplotlib import pyplot as plt"
   ]
  },
  {
   "cell_type": "code",
   "execution_count": null,
   "id": "df569394-26f7-4450-ae21-97144ba2fd40",
   "metadata": {},
   "outputs": [],
   "source": []
  },
  {
   "cell_type": "code",
   "execution_count": 2,
   "id": "6b8cbe9c-974d-4647-8e5a-5c5c4399d94e",
   "metadata": {},
   "outputs": [],
   "source": []
  },
  {
   "cell_type": "code",
   "execution_count": 8,
   "id": "f105412d-e809-4fea-92a7-bf6d4f88e20b",
   "metadata": {},
   "outputs": [],
   "source": [
    "db = '/global/cfs/cdirs/desi/cosmosim/KP45/MC/Clustering/AbacusSummit/CutSky/LRG/Xi/Pre/jmena/'"
   ]
  },
  {
   "cell_type": "code",
   "execution_count": 2,
   "id": "9aa0a0e2-fe76-4582-8e3e-1bfcb22e7b05",
   "metadata": {},
   "outputs": [],
   "source": [
    "zmns = [46, 68, 81]\n",
    "zbins = [ (0.4, 0.6), (0.6, 0.8), (0.8, 1.1) ]"
   ]
  },
  {
   "cell_type": "code",
   "execution_count": null,
   "id": "9ff2edd3-54b9-49f9-886b-8c82b2ebdd2e",
   "metadata": {},
   "outputs": [],
   "source": []
  },
  {
   "cell_type": "code",
   "execution_count": 5,
   "id": "ace347ea-7bc3-41ac-8db0-f2c274e23dad",
   "metadata": {},
   "outputs": [],
   "source": [
    "# First grab multipoles"
   ]
  },
  {
   "cell_type": "code",
   "execution_count": 17,
   "id": "71c7979c-95a0-41c5-a8ca-231db2c6665b",
   "metadata": {},
   "outputs": [],
   "source": [
    "dk = 0.005\n",
    "\n",
    "ks = np.loadtxt(db + 's.txt')\n",
    "nbins = len(ks)\n",
    "\n",
    "#kmaxs = dk * (1 + np.arange(nbins))\n",
    "#kmins = dk * (0 + np.arange(nbins))\n",
    "#kcens = dk * (0.5 + np.arange(nbins))\n",
    "\n",
    "kmins = np.arange(0,50) * 4\n",
    "kmaxs = (1+np.arange(0,50)) * 4\n",
    "kmeans = 1./4 * (kmaxs**4 - kmins**4) / (1./3 * (kmaxs**3 - kmins**3))\n",
    "kcens = (0.5+np.arange(0,50)) * 4\n",
    "\n",
    "for ii in range(3):\n",
    "    zmn = zmns[ii]\n",
    "    zmin, zmax = zbins[ii]\n",
    "\n",
    "    p0s = np.loadtxt(db + 'Xi_0_zmin%.1f_zmax%.1f.txt'%(zmin,zmax))\n",
    "    p0 = np.mean(p0s, axis=1)\n",
    "\n",
    "    p2s = np.loadtxt(db + 'Xi_2_zmin%.1f_zmax%.1f.txt'%(zmin,zmax))\n",
    "    p2 = np.mean(p2s, axis=1)\n",
    "\n",
    "\n",
    "    np.savetxt('xiells_mean_%2d.dat'%(zmn), np.array([kcens, p0, p2]).T)"
   ]
  },
  {
   "cell_type": "code",
   "execution_count": 18,
   "id": "023427b5-ff12-4c3b-9843-5a839f722c6f",
   "metadata": {},
   "outputs": [
    {
     "data": {
      "text/plain": [
       "(50,)"
      ]
     },
     "execution_count": 18,
     "metadata": {},
     "output_type": "execute_result"
    }
   ],
   "source": [
    "ks.shape"
   ]
  },
  {
   "cell_type": "code",
   "execution_count": 29,
   "id": "55b2167d-76e5-49dd-86f3-afa3b13f5816",
   "metadata": {},
   "outputs": [
    {
     "name": "stdout",
     "output_type": "stream",
     "text": [
      "Xi_0_zmin0.4_zmax0.6.txt  Xi_4_zmin0.4_zmax0.6.txt  \u001b[0m\u001b[01;34mpycorr_format\u001b[0m/\n",
      "Xi_0_zmin0.6_zmax0.8.txt  Xi_4_zmin0.6_zmax0.8.txt  s.txt\n",
      "Xi_2_zmin0.4_zmax0.6.txt  cov_zmin0.4_zmax0.6.txt\n",
      "Xi_2_zmin0.6_zmax0.8.txt  cov_zmin0.6_zmax0.8.txt\n"
     ]
    }
   ],
   "source": [
    "ls $db"
   ]
  },
  {
   "cell_type": "code",
   "execution_count": 23,
   "id": "68454f2c-32e2-4b7f-85e1-dcdc50b5425e",
   "metadata": {},
   "outputs": [
    {
     "data": {
      "text/plain": [
       "' /global/cfs/cdirs/desi/cosmosim/KP45/MC/Clustering/EZmock/CutSky/LRG/Xi/jmena/cov_zmin0.4_zmax0.6.txt'"
      ]
     },
     "execution_count": 23,
     "metadata": {},
     "output_type": "execute_result"
    }
   ],
   "source": [
    "db + 'cov_zmin%.1f_zmax%.1f.txt'%(zmin,zmax)"
   ]
  },
  {
   "cell_type": "code",
   "execution_count": 31,
   "id": "271b1497-c350-4862-bcc4-bbee1164b1bd",
   "metadata": {},
   "outputs": [],
   "source": [
    "# Now get the covariances:\n",
    "db = '/global/cfs/cdirs/desi/cosmosim/KP45/MC/Clustering/EZmock/CutSky/LRG/Xi/jmena/'\n",
    "\n",
    "for ii in range(2):\n",
    "    zmn = zmns[ii]\n",
    "    zmin, zmax = zbins[ii]\n",
    "\n",
    "    covmat = np.loadtxt(db + 'cov_zmin%.1f_zmax%.1f.txt'%(zmin,zmax))\n",
    "    np.savetxt('xiells_cov_%2d.dat'%(zmn), covmat[:(2*nbins),:(2*nbins)])"
   ]
  },
  {
   "cell_type": "code",
   "execution_count": 30,
   "id": "b7301329-ab0a-42ed-b237-a137133d6f36",
   "metadata": {},
   "outputs": [
    {
     "data": {
      "text/plain": [
       "(150, 150)"
      ]
     },
     "execution_count": 30,
     "metadata": {},
     "output_type": "execute_result"
    }
   ],
   "source": [
    "# Make the zmin, zmax = 0.8, 1.1 from scratch"
   ]
  },
  {
   "cell_type": "code",
   "execution_count": 41,
   "id": "349314bc-1514-4d73-a184-fd445bfb499a",
   "metadata": {},
   "outputs": [
    {
     "ename": "OSError",
     "evalue": "/global/cfs/cdirs/desi/cosmosim/KP45/MC/Clustering/EZmock/CutSky/LRG/Xi/jmena/Xi_0_zmin0.8_zmax1.1.txt not found.",
     "output_type": "error",
     "traceback": [
      "\u001b[0;31m---------------------------------------------------------------------------\u001b[0m",
      "\u001b[0;31mOSError\u001b[0m                                   Traceback (most recent call last)",
      "\u001b[0;32m<ipython-input-41-eef8ae36c9d9>\u001b[0m in \u001b[0;36m<module>\u001b[0;34m\u001b[0m\n\u001b[1;32m      4\u001b[0m \u001b[0mzmin\u001b[0m\u001b[0;34m,\u001b[0m \u001b[0mzmax\u001b[0m \u001b[0;34m=\u001b[0m \u001b[0mzbins\u001b[0m\u001b[0;34m[\u001b[0m\u001b[0mii\u001b[0m\u001b[0;34m]\u001b[0m\u001b[0;34m\u001b[0m\u001b[0;34m\u001b[0m\u001b[0m\n\u001b[1;32m      5\u001b[0m \u001b[0;34m\u001b[0m\u001b[0m\n\u001b[0;32m----> 6\u001b[0;31m \u001b[0mXi0s\u001b[0m \u001b[0;34m=\u001b[0m \u001b[0mnp\u001b[0m\u001b[0;34m.\u001b[0m\u001b[0mloadtxt\u001b[0m\u001b[0;34m(\u001b[0m \u001b[0mdb\u001b[0m\u001b[0;34m+\u001b[0m \u001b[0;34m'Xi_0_zmin%.1f_zmax%.1f.txt'\u001b[0m\u001b[0;34m%\u001b[0m\u001b[0;34m(\u001b[0m\u001b[0mzmin\u001b[0m\u001b[0;34m,\u001b[0m\u001b[0mzmax\u001b[0m\u001b[0;34m)\u001b[0m\u001b[0;34m)\u001b[0m\u001b[0;34m\u001b[0m\u001b[0;34m\u001b[0m\u001b[0m\n\u001b[0m\u001b[1;32m      7\u001b[0m \u001b[0mXi2s\u001b[0m \u001b[0;34m=\u001b[0m \u001b[0mnp\u001b[0m\u001b[0;34m.\u001b[0m\u001b[0mloadtxt\u001b[0m\u001b[0;34m(\u001b[0m \u001b[0mdb\u001b[0m\u001b[0;34m+\u001b[0m \u001b[0;34m'Xi_0_zmin%.1f_zmax%.1f.txt'\u001b[0m\u001b[0;34m%\u001b[0m\u001b[0;34m(\u001b[0m\u001b[0mzmin\u001b[0m\u001b[0;34m,\u001b[0m\u001b[0mzmax\u001b[0m\u001b[0;34m)\u001b[0m\u001b[0;34m)\u001b[0m\u001b[0;34m\u001b[0m\u001b[0;34m\u001b[0m\u001b[0m\n\u001b[1;32m      8\u001b[0m \u001b[0;34m\u001b[0m\u001b[0m\n",
      "\u001b[0;32m~/.conda/envs/cobaya/lib/python3.8/site-packages/numpy/lib/npyio.py\u001b[0m in \u001b[0;36mloadtxt\u001b[0;34m(fname, dtype, comments, delimiter, converters, skiprows, usecols, unpack, ndmin, encoding, max_rows)\u001b[0m\n\u001b[1;32m    959\u001b[0m             \u001b[0mfname\u001b[0m \u001b[0;34m=\u001b[0m \u001b[0mos_fspath\u001b[0m\u001b[0;34m(\u001b[0m\u001b[0mfname\u001b[0m\u001b[0;34m)\u001b[0m\u001b[0;34m\u001b[0m\u001b[0;34m\u001b[0m\u001b[0m\n\u001b[1;32m    960\u001b[0m         \u001b[0;32mif\u001b[0m \u001b[0m_is_string_like\u001b[0m\u001b[0;34m(\u001b[0m\u001b[0mfname\u001b[0m\u001b[0;34m)\u001b[0m\u001b[0;34m:\u001b[0m\u001b[0;34m\u001b[0m\u001b[0;34m\u001b[0m\u001b[0m\n\u001b[0;32m--> 961\u001b[0;31m             \u001b[0mfh\u001b[0m \u001b[0;34m=\u001b[0m \u001b[0mnp\u001b[0m\u001b[0;34m.\u001b[0m\u001b[0mlib\u001b[0m\u001b[0;34m.\u001b[0m\u001b[0m_datasource\u001b[0m\u001b[0;34m.\u001b[0m\u001b[0mopen\u001b[0m\u001b[0;34m(\u001b[0m\u001b[0mfname\u001b[0m\u001b[0;34m,\u001b[0m \u001b[0;34m'rt'\u001b[0m\u001b[0;34m,\u001b[0m \u001b[0mencoding\u001b[0m\u001b[0;34m=\u001b[0m\u001b[0mencoding\u001b[0m\u001b[0;34m)\u001b[0m\u001b[0;34m\u001b[0m\u001b[0;34m\u001b[0m\u001b[0m\n\u001b[0m\u001b[1;32m    962\u001b[0m             \u001b[0mfencoding\u001b[0m \u001b[0;34m=\u001b[0m \u001b[0mgetattr\u001b[0m\u001b[0;34m(\u001b[0m\u001b[0mfh\u001b[0m\u001b[0;34m,\u001b[0m \u001b[0;34m'encoding'\u001b[0m\u001b[0;34m,\u001b[0m \u001b[0;34m'latin1'\u001b[0m\u001b[0;34m)\u001b[0m\u001b[0;34m\u001b[0m\u001b[0;34m\u001b[0m\u001b[0m\n\u001b[1;32m    963\u001b[0m             \u001b[0mfh\u001b[0m \u001b[0;34m=\u001b[0m \u001b[0miter\u001b[0m\u001b[0;34m(\u001b[0m\u001b[0mfh\u001b[0m\u001b[0;34m)\u001b[0m\u001b[0;34m\u001b[0m\u001b[0;34m\u001b[0m\u001b[0m\n",
      "\u001b[0;32m~/.conda/envs/cobaya/lib/python3.8/site-packages/numpy/lib/_datasource.py\u001b[0m in \u001b[0;36mopen\u001b[0;34m(path, mode, destpath, encoding, newline)\u001b[0m\n\u001b[1;32m    193\u001b[0m \u001b[0;34m\u001b[0m\u001b[0m\n\u001b[1;32m    194\u001b[0m     \u001b[0mds\u001b[0m \u001b[0;34m=\u001b[0m \u001b[0mDataSource\u001b[0m\u001b[0;34m(\u001b[0m\u001b[0mdestpath\u001b[0m\u001b[0;34m)\u001b[0m\u001b[0;34m\u001b[0m\u001b[0;34m\u001b[0m\u001b[0m\n\u001b[0;32m--> 195\u001b[0;31m     \u001b[0;32mreturn\u001b[0m \u001b[0mds\u001b[0m\u001b[0;34m.\u001b[0m\u001b[0mopen\u001b[0m\u001b[0;34m(\u001b[0m\u001b[0mpath\u001b[0m\u001b[0;34m,\u001b[0m \u001b[0mmode\u001b[0m\u001b[0;34m,\u001b[0m \u001b[0mencoding\u001b[0m\u001b[0;34m=\u001b[0m\u001b[0mencoding\u001b[0m\u001b[0;34m,\u001b[0m \u001b[0mnewline\u001b[0m\u001b[0;34m=\u001b[0m\u001b[0mnewline\u001b[0m\u001b[0;34m)\u001b[0m\u001b[0;34m\u001b[0m\u001b[0;34m\u001b[0m\u001b[0m\n\u001b[0m\u001b[1;32m    196\u001b[0m \u001b[0;34m\u001b[0m\u001b[0m\n\u001b[1;32m    197\u001b[0m \u001b[0;34m\u001b[0m\u001b[0m\n",
      "\u001b[0;32m~/.conda/envs/cobaya/lib/python3.8/site-packages/numpy/lib/_datasource.py\u001b[0m in \u001b[0;36mopen\u001b[0;34m(self, path, mode, encoding, newline)\u001b[0m\n\u001b[1;32m    533\u001b[0m                                       encoding=encoding, newline=newline)\n\u001b[1;32m    534\u001b[0m         \u001b[0;32melse\u001b[0m\u001b[0;34m:\u001b[0m\u001b[0;34m\u001b[0m\u001b[0;34m\u001b[0m\u001b[0m\n\u001b[0;32m--> 535\u001b[0;31m             \u001b[0;32mraise\u001b[0m \u001b[0mIOError\u001b[0m\u001b[0;34m(\u001b[0m\u001b[0;34m\"%s not found.\"\u001b[0m \u001b[0;34m%\u001b[0m \u001b[0mpath\u001b[0m\u001b[0;34m)\u001b[0m\u001b[0;34m\u001b[0m\u001b[0;34m\u001b[0m\u001b[0m\n\u001b[0m\u001b[1;32m    536\u001b[0m \u001b[0;34m\u001b[0m\u001b[0m\n\u001b[1;32m    537\u001b[0m \u001b[0;34m\u001b[0m\u001b[0m\n",
      "\u001b[0;31mOSError\u001b[0m: /global/cfs/cdirs/desi/cosmosim/KP45/MC/Clustering/EZmock/CutSky/LRG/Xi/jmena/Xi_0_zmin0.8_zmax1.1.txt not found."
     ]
    }
   ],
   "source": [
    "ii = 2\n",
    "\n",
    "zmn = zmns[ii]\n",
    "zmin, zmax = zbins[ii]\n",
    "\n",
    "Xi0s = np.loadtxt( db+ 'Xi_0_zmin%.1f_zmax%.1f.txt'%(zmin,zmax))\n",
    "Xi2s = np.loadtxt( db+ 'Xi_0_zmin%.1f_zmax%.1f.txt'%(zmin,zmax))\n",
    "\n",
    "#Xis = \n",
    "\n",
    "#covmat = np.loadtxt(db + 'cov_zmin%.1f_zmax%.1f.txt'%(zmin,zmax))\n",
    "#np.savetxt('xiells_cov_%2d.dat'%(zmn), covmat[:(2*nbins),:(2*nbins)])"
   ]
  },
  {
   "cell_type": "code",
   "execution_count": 33,
   "id": "8b3ff959-8d75-4174-9632-fdceec5f5789",
   "metadata": {},
   "outputs": [
    {
     "data": {
      "text/plain": [
       "(50, 1000)"
      ]
     },
     "execution_count": 33,
     "metadata": {},
     "output_type": "execute_result"
    }
   ],
   "source": [
    "Xi0s.shape"
   ]
  },
  {
   "cell_type": "code",
   "execution_count": 36,
   "id": "0c8a635a-f010-485d-b836-3d0f7200382f",
   "metadata": {},
   "outputs": [
    {
     "data": {
      "text/plain": [
       "(100, 1000)"
      ]
     },
     "execution_count": 36,
     "metadata": {},
     "output_type": "execute_result"
    }
   ],
   "source": [
    "np.vstack( (Xi0s,Xi2s) ).shape"
   ]
  },
  {
   "cell_type": "code",
   "execution_count": 39,
   "id": "4663eac5-30b1-43da-bcf0-7e67687ca862",
   "metadata": {},
   "outputs": [
    {
     "data": {
      "text/plain": [
       "0.8"
      ]
     },
     "execution_count": 39,
     "metadata": {},
     "output_type": "execute_result"
    }
   ],
   "source": [
    "zmax"
   ]
  },
  {
   "cell_type": "code",
   "execution_count": null,
   "id": "27da8164-2069-4cde-8ce8-fdc5bea6570b",
   "metadata": {},
   "outputs": [],
   "source": []
  }
 ],
 "metadata": {
  "kernelspec": {
   "display_name": "Cobaya-env",
   "language": "python",
   "name": "cobaya"
  },
  "language_info": {
   "codemirror_mode": {
    "name": "ipython",
    "version": 3
   },
   "file_extension": ".py",
   "mimetype": "text/x-python",
   "name": "python",
   "nbconvert_exporter": "python",
   "pygments_lexer": "ipython3",
   "version": "3.8.5"
  }
 },
 "nbformat": 4,
 "nbformat_minor": 5
}
