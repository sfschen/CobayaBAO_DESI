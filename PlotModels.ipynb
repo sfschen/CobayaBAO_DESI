{
 "cells": [
  {
   "cell_type": "code",
   "execution_count": 1,
   "id": "152e633a-5801-48b2-9fb4-8198cc0aa8d3",
   "metadata": {},
   "outputs": [],
   "source": [
    "%matplotlib inline\n",
    "import sys, os\n",
    "os.environ['COBAYA_NOMPI'] = 'True'\n",
    "sys.path.append('/global/cscratch1/sd/sfschen/desi_bao_fitting/lss_likelihood/')\n",
    "\n",
    "import numpy as np\n",
    "import matplotlib.pyplot as plt\n",
    "from cobaya.model import get_model\n",
    "from cobaya.yaml import yaml_load, yaml_load_file\n",
    "import yaml"
   ]
  },
  {
   "cell_type": "code",
   "execution_count": null,
   "id": "6677381a-ce13-44fc-9ba1-1e902c85dfc6",
   "metadata": {},
   "outputs": [],
   "source": []
  },
  {
   "cell_type": "code",
   "execution_count": null,
   "id": "00b137b2-640a-4ec4-beea-6ab221322963",
   "metadata": {},
   "outputs": [],
   "source": []
  },
  {
   "cell_type": "code",
   "execution_count": null,
   "id": "84476c5b-43fa-41bf-83ee-df1d7e5d56db",
   "metadata": {},
   "outputs": [],
   "source": []
  },
  {
   "cell_type": "code",
   "execution_count": null,
   "id": "785d5f05-f8cf-4006-9e6e-db4f465f50fb",
   "metadata": {},
   "outputs": [],
   "source": []
  },
  {
   "cell_type": "code",
   "execution_count": 2,
   "id": "d1f43414-c7b2-4bf5-b4c0-931047946bcf",
   "metadata": {},
   "outputs": [],
   "source": [
    "info_txt='/global/cscratch1/sd/sfschen/desi_bao_fitting/martin_reciso.yaml'\n",
    "#with open(info_txt, 'rb') as fp:\n",
    "#    info = yaml.load(fp)\n",
    "\n",
    "info = yaml_load_file(info_txt)\n",
    "\n",
    "info['packages_path'] = '/global/cscratch1/sd/sfschen/desi_bao_fitting/lss_likelihood/'\n",
    "info['debug'] = False \n",
    "info['stop_at_error'] = True"
   ]
  },
  {
   "cell_type": "code",
   "execution_count": 3,
   "id": "913787e6-34fa-460b-932d-b88e2635bb29",
   "metadata": {},
   "outputs": [],
   "source": [
    "# Load chains and best fits\n",
    "base = info['output']\n",
    "\n",
    "file = np.genfromtxt(base+'.%d.txt'%(1),names=True)\n",
    "var_names = file.dtype.names\n",
    "var_names = var_names[2:-4]\n",
    "del file"
   ]
  },
  {
   "cell_type": "code",
   "execution_count": 4,
   "id": "f74328df-71c3-402a-a760-d34c8f7306cd",
   "metadata": {},
   "outputs": [],
   "source": [
    "mcmc = []\n",
    "\n",
    "for ii in range(8):\n",
    "    mcmc += [ np.loadtxt(base+'.%d.txt'%(ii+1)) ]\n",
    "\n",
    "mcmc = np.concatenate(mcmc)"
   ]
  },
  {
   "cell_type": "code",
   "execution_count": 5,
   "id": "b09271d5-297e-493e-9eca-1a23208696c4",
   "metadata": {},
   "outputs": [],
   "source": [
    "chi2s = mcmc[:,-1]\n",
    "ii = np.argmin(chi2s)\n",
    "bfs = mcmc[ii,2:-4]\n",
    "pars = dict(zip(var_names,bfs))"
   ]
  },
  {
   "cell_type": "code",
   "execution_count": null,
   "id": "4f65f390-4f0c-4dc0-8348-6b9947d38859",
   "metadata": {},
   "outputs": [],
   "source": []
  },
  {
   "cell_type": "code",
   "execution_count": 6,
   "id": "3741cdd5-8a18-4de6-9954-18e4a5d643fd",
   "metadata": {},
   "outputs": [
    {
     "name": "stdout",
     "output_type": "stream",
     "text": [
      "[model] *WARNING* Ignored blocks/options: ['sampler', 'output', 'stop_on_error']\n",
      "(10.12025882175815, 9.332620656917147, 10.128518651354545, 13.685592617083431, 0.03169562702463055)\n",
      "LogPosterior(logpost=-134.20190247580499, logpriors=[-129.86854476952155], loglikes=array([-4.33335771]), derived=[])\n"
     ]
    }
   ],
   "source": [
    "# Run Model Class\n",
    "model = get_model(info)\n",
    "\n",
    "#bounds = model.prior.bounds()\n",
    "#pars = dict(zip(model.prior.params, model.prior.reference()))\n",
    "logposterior = model.logposterior(pars)\n",
    "print(logposterior)"
   ]
  },
  {
   "cell_type": "code",
   "execution_count": 11,
   "id": "ae96c87e-4b88-476d-9521-3f94193924f5",
   "metadata": {},
   "outputs": [
    {
     "name": "stdout",
     "output_type": "stream",
     "text": [
      "[8.66671541]\n"
     ]
    }
   ],
   "source": [
    "chi2 = -model.logps(pars)[0] * 2\n",
    "print(chi2)"
   ]
  },
  {
   "cell_type": "code",
   "execution_count": 8,
   "id": "4e3b256d-9b3d-45a7-995c-6bfd3e504fdd",
   "metadata": {},
   "outputs": [],
   "source": [
    "likelihood_name = list(model.likelihood.keys())[0]\n",
    "\n",
    "kdat = model.likelihood[likelihood_name].kdat\n",
    "p0dat = model.likelihood[likelihood_name].p0dat\n",
    "p2dat = model.likelihood[likelihood_name].p2dat\n",
    "errs = np.diag(model.likelihood[likelihood_name].cov)**0.5"
   ]
  },
  {
   "cell_type": "code",
   "execution_count": 9,
   "id": "0c5b306d-edc7-4f8a-a16a-29e010cc19e2",
   "metadata": {},
   "outputs": [],
   "source": [
    "p0conv, p2conv = model.likelihood[likelihood_name].p0conv, model.likelihood[likelihood_name].p2conv"
   ]
  },
  {
   "cell_type": "code",
   "execution_count": 10,
   "id": "476b5622-b3eb-4fd8-b1cd-0ef49feade61",
   "metadata": {},
   "outputs": [
    {
     "data": {
      "text/plain": [
       "Text(0.5, 1.0, 'best fit: mock_likelihoods.Martin_RecIso')"
      ]
     },
     "execution_count": 10,
     "metadata": {},
     "output_type": "execute_result"
    },
    {
     "data": {
      "image/png": "[encoded data removed]",
      "text/plain": [
       "<Figure size 432x288 with 1 Axes>"
      ]
     },
     "metadata": {
      "needs_background": "light"
     },
     "output_type": "display_data"
    }
   ],
   "source": [
    "plt.errorbar(kdat, kdat * p0dat, yerr=kdat * errs[:48], fmt = 'o')\n",
    "plt.errorbar(kdat, kdat * p2dat, yerr=kdat * errs[48:], fmt = 'o')\n",
    "\n",
    "plt.plot(kdat, kdat * p0conv, 'C0--')\n",
    "plt.plot(kdat, kdat * p2conv, 'C1--')\n",
    "\n",
    "plt.xlim(0.02,0.2)\n",
    "plt.ylim(0,800)\n",
    "\n",
    "plt.xlabel('k [h/Mpc]')\n",
    "plt.ylabel(r'$k P_\\ell$ [(Mpc/h)$^2$]')\n",
    "\n",
    "plt.title('best fit: ' + likelihood_name)"
   ]
  },
  {
   "cell_type": "code",
   "execution_count": null,
   "id": "eb22fd89-72fc-4d13-9c61-fbca6d16c2f5",
   "metadata": {},
   "outputs": [],
   "source": []
  },
  {
   "cell_type": "code",
   "execution_count": null,
   "id": "72033e92-1372-4fb0-88bf-90334f00aea5",
   "metadata": {},
   "outputs": [],
   "source": []
  }
 ],
 "metadata": {
  "kernelspec": {
   "display_name": "Cobaya-env",
   "language": "python",
   "name": "cobaya"
  },
  "language_info": {
   "codemirror_mode": {
    "name": "ipython",
    "version": 3
   },
   "file_extension": ".py",
   "mimetype": "text/x-python",
   "name": "python",
   "nbconvert_exporter": "python",
   "pygments_lexer": "ipython3",
   "version": "3.8.5"
  }
 },
 "nbformat": 4,
 "nbformat_minor": 5
}
