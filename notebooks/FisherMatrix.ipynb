{
 "cells": [
  {
   "cell_type": "code",
   "execution_count": 1,
   "id": "66956407-9de6-4fad-acd2-5832f252fd4e",
   "metadata": {},
   "outputs": [],
   "source": [
    "import numpy as np\n",
    "import matplotlib.pyplot as plt\n",
    "%matplotlib inline"
   ]
  },
  {
   "cell_type": "code",
   "execution_count": 2,
   "id": "cddd231a-4d2b-4ea3-9e60-b55f76bdccf1",
   "metadata": {},
   "outputs": [],
   "source": [
    "import os\n",
    "import sys\n",
    "# Needed for the model class to work inside a Notebook.\n",
    "os.environ[\"COBAYA_NOMPI\"] = \"True\"\n",
    "\n",
    "from cobaya.yaml          import yaml_load_file\n",
    "from cobaya.samplers.mcmc import plot_progress\n",
    "from cobaya.model         import get_model\n",
    "from cobaya.samplers.mcmc import plot_progress\n",
    "#\n",
    "from getdist.mcsamples    import MCSamplesFromCobaya\n",
    "from getdist.mcsamples    import loadMCSamples\n",
    "import getdist.plots      as     gdplt\n",
    "#\n",
    "import os"
   ]
  },
  {
   "cell_type": "code",
   "execution_count": 3,
   "id": "08a3a54a-223d-4c63-834f-f216a7074bb2",
   "metadata": {},
   "outputs": [],
   "source": [
    "# Add everything to our paths.\n",
    "repo = \"/global/cscratch1/sd/sfschen/CobayaBAO_DESI/\"\n",
    "for codedir in [\"lss_likelihood\"]:\n",
    "    sys.path.append(repo+codedir)"
   ]
  },
  {
   "cell_type": "code",
   "execution_count": 44,
   "id": "1c89382b-865d-492b-a97b-60f9dca3913e",
   "metadata": {},
   "outputs": [
    {
     "name": "stdout",
     "output_type": "stream",
     "text": [
      "dict_keys(['apar', 'aperp', 'B1_z81', 'F_z81', 'M0_z81', 'M1_z81', 'M2_z81', 'M3_z81', 'M4_z81', 'Q0_z81', 'Q1_z81', 'Q2_z81', 'Q3_z81', 'Q4_z81'])\n",
      "chains/recsym_z81_pkells\n"
     ]
    }
   ],
   "source": [
    "nm = 81\n",
    "samp = 'z%2d'%(nm)\n",
    "#info = yaml_load_file(\"recsym_z%2d_pkells_r10_kmin_02_kmax30.yaml\"%(nm))\n",
    "info = yaml_load_file(\"recsym_z%2d_pkells.yaml\"%(nm))\n",
    "print(info['params'].keys())\n",
    "print(info['output'])"
   ]
  },
  {
   "cell_type": "code",
   "execution_count": null,
   "id": "c06471bb-1812-4558-9cb7-356d8e3f079d",
   "metadata": {},
   "outputs": [],
   "source": []
  },
  {
   "cell_type": "code",
   "execution_count": 45,
   "id": "2b8107b0-e929-4c84-9d1d-e1a85a9524d7",
   "metadata": {},
   "outputs": [],
   "source": [
    "params = {'apar': 0.99875656, 'aperp': 1.0082069,\\\n",
    "          'B1_z%2d'%(nm): 0.87570316, 'F_z%2d'%(nm): 0.77598726,\\\n",
    "          'M0_z%2d'%(nm): 233.14934, 'M1_z%2d'%(nm): 675.8675, 'M2_z%2d'%(nm): -462.8388, 'M3_z%2d'%(nm): 170.85299999999998, 'M4_z%2d'%(nm): -13.268070999999999,\\\n",
    "          'Q0_z%2d'%(nm): 271.81997, 'Q1_z%2d'%(nm): -351.08239, 'Q2_z%2d'%(nm): 611.80872, 'Q3_z%2d'%(nm): -1287.7481, 'Q4_z%2d'%(nm): 269.95396}"
   ]
  },
  {
   "cell_type": "code",
   "execution_count": 46,
   "id": "4004a186-9ed2-450e-b5a7-438a0f26fa8f",
   "metadata": {},
   "outputs": [
    {
     "name": "stdout",
     "output_type": "stream",
     "text": [
      "[model] *WARNING* Ignored blocks/options: ['sampler', 'output', 'stop_on_error']\n",
      "(10.556307852555234, 9.45499094916356, 10.565115328400125, 13.777685164072894, 0.03123000341125935)\n",
      "['apar', 'aperp', 'B1_z81', 'F_z81', 'M0_z81', 'M1_z81', 'M2_z81', 'M3_z81', 'M4_z81', 'Q0_z81', 'Q1_z81', 'Q2_z81', 'Q3_z81', 'Q4_z81']\n"
     ]
    }
   ],
   "source": [
    "model = get_model(info)\n",
    "print(list(model.parameterization.sampled_params()))"
   ]
  },
  {
   "cell_type": "code",
   "execution_count": 47,
   "id": "c768f299-c66d-481a-8daa-53467da96942",
   "metadata": {},
   "outputs": [],
   "source": [
    "model.logposterior(params)\n",
    "lik = model.likelihood['recsym_likelihood.RecSymLikelihood']\n",
    "\n",
    "tt = lik.bao_predict(samp)\n",
    "tt = lik.bao_observe(tt)"
   ]
  },
  {
   "cell_type": "code",
   "execution_count": null,
   "id": "2c380054-2d72-4a6a-8731-7fc50ab89562",
   "metadata": {},
   "outputs": [],
   "source": []
  },
  {
   "cell_type": "code",
   "execution_count": 48,
   "id": "14cb1c3c-46e9-4036-9fee-1cd81b630a3e",
   "metadata": {},
   "outputs": [],
   "source": [
    "# Compute templates:\n",
    "lik_str = 'recsym_likelihood.RecSymLikelihood'\n",
    "pars_list = params.keys()"
   ]
  },
  {
   "cell_type": "code",
   "execution_count": 49,
   "id": "a32f8a12-9aaa-4960-93e1-04067966a4f8",
   "metadata": {},
   "outputs": [],
   "source": [
    "err = 0.005\n",
    "dPs = {}\n",
    "\n",
    "for param_str in pars_list:\n",
    "    param = params[param_str]\n",
    "    \n",
    "    pars_plus = params.copy()\n",
    "    pars_plus[param_str] = param + err\n",
    "    \n",
    "    pars_minus = params.copy()\n",
    "    pars_minus[param_str] = param - err\n",
    "\n",
    "    model.logposterior(pars_plus)\n",
    "    obs_plus = 1.0 * model.likelihood[lik_str].thy_obs\n",
    "        \n",
    "    model.logposterior(pars_minus)\n",
    "    obs_minus = 1.0 * model.likelihood[lik_str].thy_obs\n",
    "        \n",
    "    dPs[param_str] = (obs_plus - obs_minus)/(2*err)"
   ]
  },
  {
   "cell_type": "code",
   "execution_count": null,
   "id": "762c4846-35a4-4a95-ad45-b61fb542a35d",
   "metadata": {},
   "outputs": [],
   "source": []
  },
  {
   "cell_type": "code",
   "execution_count": 50,
   "id": "c200503b-bad3-4518-9ace-014e508a053a",
   "metadata": {},
   "outputs": [],
   "source": [
    "# Dot into covariance to make Fisher matrix\n",
    "Fij = np.zeros( (len(params.keys()),)*2 )\n",
    "    \n",
    "for ii, param_ii in enumerate(pars_list):\n",
    "    for jj, param_jj in enumerate(pars_list):\n",
    "            \n",
    "        Fij[ii,jj] = np.dot(dPs[param_ii],\\\n",
    "                                np.dot(model.likelihood[lik_str].cinv,\\\n",
    "                                       dPs[param_jj]))"
   ]
  },
  {
   "cell_type": "code",
   "execution_count": 51,
   "id": "d2ee672a-cdff-46af-a441-257e1d09203f",
   "metadata": {},
   "outputs": [
    {
     "name": "stderr",
     "output_type": "stream",
     "text": [
      "<ipython-input-51-7dce64f41c76>:1: RuntimeWarning: invalid value encountered in sqrt\n",
      "  np.diag(np.sqrt(np.linalg.inv(Fij)))\n"
     ]
    },
    {
     "data": {
      "text/plain": [
       "array([1.54862918e-02, 9.39992135e-03, 9.40221492e-02, 2.04961544e-01,\n",
       "       4.13171159e+01, 1.01392743e+03, 6.13254680e+02, 2.94554247e+02,\n",
       "       5.03378868e+01, 1.37985792e+02, 2.39724698e+03, 1.41452488e+03,\n",
       "       6.49758541e+02, 1.09674091e+02])"
      ]
     },
     "execution_count": 51,
     "metadata": {},
     "output_type": "execute_result"
    }
   ],
   "source": [
    "np.diag(np.sqrt(np.linalg.inv(Fij)))"
   ]
  },
  {
   "cell_type": "code",
   "execution_count": null,
   "id": "768d836e-a770-497e-9537-54f7096a1d4b",
   "metadata": {},
   "outputs": [],
   "source": []
  },
  {
   "cell_type": "code",
   "execution_count": 52,
   "id": "b67513e8-9047-48fd-b2ca-ee22741786ec",
   "metadata": {},
   "outputs": [],
   "source": [
    "# Add Priors\n",
    "iis =  (np.arange(len(pars_list) ) ) > 3 # no apar, aperp, B1, F\n",
    "prior_inv_sigmas = iis * 1./100000**2\n",
    "\n",
    "Fij_with_prior = Fij + np.diag(prior_inv_sigmas)"
   ]
  },
  {
   "cell_type": "code",
   "execution_count": null,
   "id": "5b6efa7c-fe97-4e6b-bdc4-6f0487040803",
   "metadata": {},
   "outputs": [],
   "source": []
  },
  {
   "cell_type": "code",
   "execution_count": 53,
   "id": "404f161b-8fc5-46bf-9d74-e6afe200228a",
   "metadata": {},
   "outputs": [
    {
     "name": "stderr",
     "output_type": "stream",
     "text": [
      "<ipython-input-53-857f7eb08c5c>:1: RuntimeWarning: invalid value encountered in sqrt\n",
      "  np.diag(np.sqrt(np.linalg.inv(Fij_with_prior)))\n"
     ]
    },
    {
     "data": {
      "text/plain": [
       "array([1.54859628e-02, 9.39972555e-03, 9.40062983e-02, 2.04903845e-01,\n",
       "       4.13149432e+01, 1.01385959e+03, 6.13222332e+02, 2.94546524e+02,\n",
       "       5.03369360e+01, 1.37952546e+02, 2.39642651e+03, 1.41415129e+03,\n",
       "       6.49679612e+02, 1.09665072e+02])"
      ]
     },
     "execution_count": 53,
     "metadata": {},
     "output_type": "execute_result"
    }
   ],
   "source": [
    "np.diag(np.sqrt(np.linalg.inv(Fij_with_prior)))"
   ]
  },
  {
   "cell_type": "code",
   "execution_count": null,
   "id": "2abbb846-1a35-40a6-8642-22ae299d15c7",
   "metadata": {},
   "outputs": [],
   "source": []
  },
  {
   "cell_type": "code",
   "execution_count": 54,
   "id": "4cf53d8d-590e-49e2-9481-afac94d8cd6a",
   "metadata": {},
   "outputs": [
    {
     "data": {
      "text/plain": [
       "array([[ 2.39815044e-04, -4.82604120e-05,  1.84385486e-04,\n",
       "        -6.92550534e-04],\n",
       "       [-4.82604120e-05,  8.83548404e-05, -2.46580876e-04,\n",
       "         3.73954092e-04],\n",
       "       [ 1.84385486e-04, -2.46580876e-04,  8.83718412e-03,\n",
       "        -1.41901768e-02],\n",
       "       [-6.92550534e-04,  3.73954092e-04, -1.41901768e-02,\n",
       "         4.19855859e-02]])"
      ]
     },
     "execution_count": 54,
     "metadata": {},
     "output_type": "execute_result"
    }
   ],
   "source": [
    "np.linalg.inv(Fij_with_prior)[:4,:4]"
   ]
  },
  {
   "cell_type": "code",
   "execution_count": null,
   "id": "91ae2086-704c-4157-ba50-1d5df96d52b2",
   "metadata": {},
   "outputs": [],
   "source": []
  },
  {
   "cell_type": "code",
   "execution_count": 55,
   "id": "0eeabd73-b49d-4987-ab84-eee0ac0db822",
   "metadata": {},
   "outputs": [
    {
     "name": "stderr",
     "output_type": "stream",
     "text": [
      "<ipython-input-55-9a6d4c649bc8>:1: RuntimeWarning: invalid value encountered in sqrt\n",
      "  corr_mat = np.linalg.inv(Fij_with_prior)/np.diag(np.sqrt(np.linalg.inv(Fij_with_prior)))[:,None]/np.diag(np.sqrt(np.linalg.inv(Fij_with_prior)))[None,:]\n"
     ]
    }
   ],
   "source": [
    "corr_mat = np.linalg.inv(Fij_with_prior)/np.diag(np.sqrt(np.linalg.inv(Fij_with_prior)))[:,None]/np.diag(np.sqrt(np.linalg.inv(Fij_with_prior)))[None,:]"
   ]
  },
  {
   "cell_type": "code",
   "execution_count": 56,
   "id": "129cc857-285d-4b26-a25c-66c6514a5556",
   "metadata": {},
   "outputs": [
    {
     "data": {
      "text/plain": [
       "array([[ 1.        , -0.3315413 ,  0.12665769, -0.21825447],\n",
       "       [-0.3315413 ,  1.        , -0.27905337,  0.19415698],\n",
       "       [ 0.12665769, -0.27905337,  1.        , -0.73668317],\n",
       "       [-0.21825447,  0.19415698, -0.73668317,  1.        ]])"
      ]
     },
     "execution_count": 56,
     "metadata": {},
     "output_type": "execute_result"
    }
   ],
   "source": [
    "corr_mat[:4,:4]"
   ]
  },
  {
   "cell_type": "code",
   "execution_count": null,
   "id": "4c34b170-98d7-4c85-9f65-40034df6a5c9",
   "metadata": {},
   "outputs": [],
   "source": []
  },
  {
   "cell_type": "code",
   "execution_count": 17,
   "id": "3642623c-f9c8-4788-b8dc-5bc3b443ff47",
   "metadata": {},
   "outputs": [
    {
     "name": "stderr",
     "output_type": "stream",
     "text": [
      "<ipython-input-17-6b31f6b9f5ce>:1: RuntimeWarning: invalid value encountered in sqrt\n",
      "  np.diag(np.sqrt(np.linalg.inv(Fij_with_prior[:4,:4])))\n"
     ]
    },
    {
     "data": {
      "text/plain": [
       "array([0.01297143, 0.00856761, 0.01795289, 0.03575121])"
      ]
     },
     "execution_count": 17,
     "metadata": {},
     "output_type": "execute_result"
    }
   ],
   "source": [
    "np.diag(np.sqrt(np.linalg.inv(Fij_with_prior[:4,:4])))"
   ]
  },
  {
   "cell_type": "code",
   "execution_count": 18,
   "id": "3e3ad552-b0c4-48e1-90cf-a4b282d0c173",
   "metadata": {},
   "outputs": [
    {
     "name": "stderr",
     "output_type": "stream",
     "text": [
      "<ipython-input-18-2c22f3d3ae50>:1: RuntimeWarning: invalid value encountered in sqrt\n",
      "  np.diag(np.sqrt(np.linalg.inv(Fij_with_prior[:2,:2])))\n"
     ]
    },
    {
     "data": {
      "text/plain": [
       "array([0.00429801, 0.0028842 ])"
      ]
     },
     "execution_count": 18,
     "metadata": {},
     "output_type": "execute_result"
    }
   ],
   "source": [
    "np.diag(np.sqrt(np.linalg.inv(Fij_with_prior[:2,:2])))"
   ]
  },
  {
   "cell_type": "code",
   "execution_count": 19,
   "id": "a2b01565-a15b-43cc-9838-a7bb6c4cfe13",
   "metadata": {},
   "outputs": [
    {
     "name": "stderr",
     "output_type": "stream",
     "text": [
      "<ipython-input-19-800a0b0b04ac>:1: RuntimeWarning: invalid value encountered in sqrt\n",
      "  corr_mat = np.linalg.inv(Fij_with_prior[:4,:4])/np.diag(np.sqrt(np.linalg.inv(Fij_with_prior[:4,:4])))[:,None]/np.diag(np.sqrt(np.linalg.inv(Fij_with_prior[:4,:4])))[None,:]\n"
     ]
    }
   ],
   "source": [
    "corr_mat = np.linalg.inv(Fij_with_prior[:4,:4])/np.diag(np.sqrt(np.linalg.inv(Fij_with_prior[:4,:4])))[:,None]/np.diag(np.sqrt(np.linalg.inv(Fij_with_prior[:4,:4])))[None,:]"
   ]
  },
  {
   "cell_type": "code",
   "execution_count": 20,
   "id": "60eae6b3-8827-45b0-91af-869462b272a3",
   "metadata": {},
   "outputs": [
    {
     "data": {
      "text/plain": [
       "array([[ 1.        , -0.36600074,  0.48918734, -0.90307345],\n",
       "       [-0.36600074,  1.        , -0.93029699,  0.59470038],\n",
       "       [ 0.48918734, -0.93029699,  1.        , -0.74390488],\n",
       "       [-0.90307345,  0.59470038, -0.74390488,  1.        ]])"
      ]
     },
     "execution_count": 20,
     "metadata": {},
     "output_type": "execute_result"
    }
   ],
   "source": [
    "corr_mat[:4,:4]"
   ]
  },
  {
   "cell_type": "code",
   "execution_count": null,
   "id": "71d3c58b-5e74-46c7-ab45-03f3d30490b9",
   "metadata": {},
   "outputs": [],
   "source": []
  }
 ],
 "metadata": {
  "kernelspec": {
   "display_name": "Cobaya-env",
   "language": "python",
   "name": "cobaya"
  },
  "language_info": {
   "codemirror_mode": {
    "name": "ipython",
    "version": 3
   },
   "file_extension": ".py",
   "mimetype": "text/x-python",
   "name": "python",
   "nbconvert_exporter": "python",
   "pygments_lexer": "ipython3",
   "version": "3.8.5"
  }
 },
 "nbformat": 4,
 "nbformat_minor": 5
}
