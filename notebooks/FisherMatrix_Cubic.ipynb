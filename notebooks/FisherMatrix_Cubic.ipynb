{
 "cells": [
  {
   "cell_type": "code",
   "execution_count": 1,
   "id": "66956407-9de6-4fad-acd2-5832f252fd4e",
   "metadata": {},
   "outputs": [],
   "source": [
    "import numpy as np\n",
    "import matplotlib.pyplot as plt\n",
    "%matplotlib inline"
   ]
  },
  {
   "cell_type": "code",
   "execution_count": 2,
   "id": "cddd231a-4d2b-4ea3-9e60-b55f76bdccf1",
   "metadata": {},
   "outputs": [],
   "source": [
    "import os\n",
    "import sys\n",
    "# Needed for the model class to work inside a Notebook.\n",
    "os.environ[\"COBAYA_NOMPI\"] = \"True\"\n",
    "\n",
    "from cobaya.yaml          import yaml_load_file\n",
    "from cobaya.samplers.mcmc import plot_progress\n",
    "from cobaya.model         import get_model\n",
    "from cobaya.samplers.mcmc import plot_progress\n",
    "#\n",
    "from getdist.mcsamples    import MCSamplesFromCobaya\n",
    "from getdist.mcsamples    import loadMCSamples\n",
    "import getdist.plots      as     gdplt\n",
    "#\n",
    "import os"
   ]
  },
  {
   "cell_type": "code",
   "execution_count": 3,
   "id": "08a3a54a-223d-4c63-834f-f216a7074bb2",
   "metadata": {},
   "outputs": [],
   "source": [
    "# Add everything to our paths.\n",
    "repo = \"/global/cscratch1/sd/sfschen/CobayaBAO_DESI/\"\n",
    "for codedir in [\"lss_likelihood\"]:\n",
    "    sys.path.append(repo+codedir)"
   ]
  },
  {
   "cell_type": "code",
   "execution_count": 4,
   "id": "1c89382b-865d-492b-a97b-60f9dca3913e",
   "metadata": {},
   "outputs": [
    {
     "name": "stdout",
     "output_type": "stream",
     "text": [
      "dict_keys(['apar', 'aperp', 'B1_cubic', 'F_cubic', 'M0_cubic', 'M1_cubic', 'M2_cubic', 'M3_cubic', 'M4_cubic', 'Q0_cubic', 'Q1_cubic', 'Q2_cubic', 'Q3_cubic', 'Q4_cubic'])\n",
      "chains/recsym_cubic_pkells\n"
     ]
    }
   ],
   "source": [
    "samp = 'cubic'\n",
    "info = yaml_load_file(\"recsym_cubic_pkells.yaml\")\n",
    "print(info['params'].keys())\n",
    "print(info['output'])"
   ]
  },
  {
   "cell_type": "code",
   "execution_count": null,
   "id": "c06471bb-1812-4558-9cb7-356d8e3f079d",
   "metadata": {},
   "outputs": [],
   "source": []
  },
  {
   "cell_type": "code",
   "execution_count": 5,
   "id": "2b8107b0-e929-4c84-9d1d-e1a85a9524d7",
   "metadata": {},
   "outputs": [],
   "source": [
    "params = {'apar': 0.98465368, 'aperp': 1.0007494000000001, 'B1_cubic': 0.95585343, 'F_cubic': 1.0216138000000001, 'M0_cubic': 22.603372, 'M1_cubic': -753.61969, 'M2_cubic': -781.5875, 'M3_cubic': 549.61425, 'M4_cubic': -79.843745, 'Q0_cubic': 86.363784, 'Q1_cubic': -3151.9162, 'Q2_cubic': 1539.9194, 'Q3_cubic': -1403.7662, 'Q4_cubic': 274.9908}"
   ]
  },
  {
   "cell_type": "code",
   "execution_count": 6,
   "id": "4004a186-9ed2-450e-b5a7-438a0f26fa8f",
   "metadata": {},
   "outputs": [
    {
     "name": "stdout",
     "output_type": "stream",
     "text": [
      "[model] *WARNING* Ignored blocks/options: ['sampler', 'output', 'stop_on_error']\n",
      "(10.556307852555234, 9.45499094916356, 10.565115328400125, 13.777685164072894, 0.03123000341125935)\n",
      "['apar', 'aperp', 'B1_cubic', 'F_cubic', 'M0_cubic', 'M1_cubic', 'M2_cubic', 'M3_cubic', 'M4_cubic', 'Q0_cubic', 'Q1_cubic', 'Q2_cubic', 'Q3_cubic', 'Q4_cubic']\n"
     ]
    }
   ],
   "source": [
    "model = get_model(info)\n",
    "print(list(model.parameterization.sampled_params()))"
   ]
  },
  {
   "cell_type": "code",
   "execution_count": 7,
   "id": "c768f299-c66d-481a-8daa-53467da96942",
   "metadata": {},
   "outputs": [],
   "source": [
    "model.logposterior(params)\n",
    "lik = model.likelihood['recsym_likelihood.RecSymLikelihood']\n",
    "\n",
    "tt = lik.bao_predict(samp)\n",
    "tt = lik.bao_observe(tt)"
   ]
  },
  {
   "cell_type": "code",
   "execution_count": null,
   "id": "2c380054-2d72-4a6a-8731-7fc50ab89562",
   "metadata": {},
   "outputs": [],
   "source": []
  },
  {
   "cell_type": "code",
   "execution_count": 8,
   "id": "14cb1c3c-46e9-4036-9fee-1cd81b630a3e",
   "metadata": {},
   "outputs": [],
   "source": [
    "# Compute templates:\n",
    "lik_str = 'recsym_likelihood.RecSymLikelihood'\n",
    "pars_list = params.keys()"
   ]
  },
  {
   "cell_type": "code",
   "execution_count": 9,
   "id": "a32f8a12-9aaa-4960-93e1-04067966a4f8",
   "metadata": {},
   "outputs": [],
   "source": [
    "err = 0.005\n",
    "dPs = {}\n",
    "\n",
    "for param_str in pars_list:\n",
    "    param = params[param_str]\n",
    "    \n",
    "    pars_plus = params.copy()\n",
    "    pars_plus[param_str] = param + err\n",
    "    \n",
    "    pars_minus = params.copy()\n",
    "    pars_minus[param_str] = param - err\n",
    "\n",
    "    model.logposterior(pars_plus)\n",
    "    obs_plus = 1.0 * model.likelihood[lik_str].thy_obs\n",
    "        \n",
    "    model.logposterior(pars_minus)\n",
    "    obs_minus = 1.0 * model.likelihood[lik_str].thy_obs\n",
    "        \n",
    "    dPs[param_str] = (obs_plus - obs_minus)/(2*err)"
   ]
  },
  {
   "cell_type": "code",
   "execution_count": null,
   "id": "762c4846-35a4-4a95-ad45-b61fb542a35d",
   "metadata": {},
   "outputs": [],
   "source": []
  },
  {
   "cell_type": "code",
   "execution_count": 10,
   "id": "c200503b-bad3-4518-9ace-014e508a053a",
   "metadata": {},
   "outputs": [],
   "source": [
    "# Dot into covariance to make Fisher matrix\n",
    "Fij = np.zeros( (len(params.keys()),)*2 )\n",
    "    \n",
    "for ii, param_ii in enumerate(pars_list):\n",
    "    for jj, param_jj in enumerate(pars_list):\n",
    "            \n",
    "        Fij[ii,jj] = np.dot(dPs[param_ii],\\\n",
    "                                np.dot(model.likelihood[lik_str].cinv,\\\n",
    "                                       dPs[param_jj]))"
   ]
  },
  {
   "cell_type": "code",
   "execution_count": 11,
   "id": "d2ee672a-cdff-46af-a441-257e1d09203f",
   "metadata": {},
   "outputs": [
    {
     "name": "stderr",
     "output_type": "stream",
     "text": [
      "<ipython-input-11-7dce64f41c76>:1: RuntimeWarning: invalid value encountered in sqrt\n",
      "  np.diag(np.sqrt(np.linalg.inv(Fij)))\n"
     ]
    },
    {
     "data": {
      "text/plain": [
       "array([8.67114938e-03, 5.57118956e-03, 5.37498668e-02, 1.32336459e-01,\n",
       "       2.07004665e+01, 6.13663732e+02, 3.72008066e+02, 1.88042389e+02,\n",
       "       3.30221097e+01, 5.41332828e+01, 1.62900508e+03, 9.40961637e+02,\n",
       "       4.50407082e+02, 7.81874993e+01])"
      ]
     },
     "execution_count": 11,
     "metadata": {},
     "output_type": "execute_result"
    }
   ],
   "source": [
    "np.diag(np.sqrt(np.linalg.inv(Fij)))"
   ]
  },
  {
   "cell_type": "code",
   "execution_count": null,
   "id": "768d836e-a770-497e-9537-54f7096a1d4b",
   "metadata": {},
   "outputs": [],
   "source": []
  },
  {
   "cell_type": "code",
   "execution_count": 12,
   "id": "b67513e8-9047-48fd-b2ca-ee22741786ec",
   "metadata": {},
   "outputs": [],
   "source": [
    "# Add Priors\n",
    "iis =  (np.arange(len(pars_list) ) ) > 3 # no apar, aperp, B1, F\n",
    "prior_inv_sigmas = iis * 1./100000**2\n",
    "\n",
    "Fij_with_prior = Fij + np.diag(prior_inv_sigmas)"
   ]
  },
  {
   "cell_type": "code",
   "execution_count": null,
   "id": "5b6efa7c-fe97-4e6b-bdc4-6f0487040803",
   "metadata": {},
   "outputs": [],
   "source": []
  },
  {
   "cell_type": "code",
   "execution_count": 13,
   "id": "404f161b-8fc5-46bf-9d74-e6afe200228a",
   "metadata": {},
   "outputs": [
    {
     "name": "stderr",
     "output_type": "stream",
     "text": [
      "<ipython-input-13-857f7eb08c5c>:1: RuntimeWarning: invalid value encountered in sqrt\n",
      "  np.diag(np.sqrt(np.linalg.inv(Fij_with_prior)))\n"
     ]
    },
    {
     "data": {
      "text/plain": [
       "array([8.67107934e-03, 5.57117517e-03, 5.37467105e-02, 1.32319466e-01,\n",
       "       2.06997219e+01, 6.13635808e+02, 3.71996411e+02, 1.88040153e+02,\n",
       "       3.30218479e+01, 5.41262529e+01, 1.62874823e+03, 9.40852164e+02,\n",
       "       4.50384486e+02, 7.81847556e+01])"
      ]
     },
     "execution_count": 13,
     "metadata": {},
     "output_type": "execute_result"
    }
   ],
   "source": [
    "np.diag(np.sqrt(np.linalg.inv(Fij_with_prior)))"
   ]
  },
  {
   "cell_type": "code",
   "execution_count": null,
   "id": "2abbb846-1a35-40a6-8642-22ae299d15c7",
   "metadata": {},
   "outputs": [],
   "source": []
  },
  {
   "cell_type": "code",
   "execution_count": null,
   "id": "4cf53d8d-590e-49e2-9481-afac94d8cd6a",
   "metadata": {},
   "outputs": [],
   "source": []
  },
  {
   "cell_type": "code",
   "execution_count": null,
   "id": "91ae2086-704c-4157-ba50-1d5df96d52b2",
   "metadata": {},
   "outputs": [],
   "source": []
  },
  {
   "cell_type": "code",
   "execution_count": 14,
   "id": "0eeabd73-b49d-4987-ab84-eee0ac0db822",
   "metadata": {},
   "outputs": [
    {
     "name": "stderr",
     "output_type": "stream",
     "text": [
      "<ipython-input-14-9a6d4c649bc8>:1: RuntimeWarning: invalid value encountered in sqrt\n",
      "  corr_mat = np.linalg.inv(Fij_with_prior)/np.diag(np.sqrt(np.linalg.inv(Fij_with_prior)))[:,None]/np.diag(np.sqrt(np.linalg.inv(Fij_with_prior)))[None,:]\n"
     ]
    }
   ],
   "source": [
    "corr_mat = np.linalg.inv(Fij_with_prior)/np.diag(np.sqrt(np.linalg.inv(Fij_with_prior)))[:,None]/np.diag(np.sqrt(np.linalg.inv(Fij_with_prior)))[None,:]"
   ]
  },
  {
   "cell_type": "code",
   "execution_count": 15,
   "id": "129cc857-285d-4b26-a25c-66c6514a5556",
   "metadata": {},
   "outputs": [
    {
     "data": {
      "text/plain": [
       "array([[ 1.        , -0.42947265,  0.17054847, -0.23576381],\n",
       "       [-0.42947265,  1.        , -0.21788569,  0.10613416],\n",
       "       [ 0.17054847, -0.21788569,  1.        , -0.7385502 ],\n",
       "       [-0.23576381,  0.10613416, -0.7385502 ,  1.        ]])"
      ]
     },
     "execution_count": 15,
     "metadata": {},
     "output_type": "execute_result"
    }
   ],
   "source": [
    "corr_mat[:4,:4]"
   ]
  },
  {
   "cell_type": "code",
   "execution_count": null,
   "id": "4c34b170-98d7-4c85-9f65-40034df6a5c9",
   "metadata": {},
   "outputs": [],
   "source": []
  },
  {
   "cell_type": "code",
   "execution_count": 16,
   "id": "3642623c-f9c8-4788-b8dc-5bc3b443ff47",
   "metadata": {},
   "outputs": [
    {
     "name": "stderr",
     "output_type": "stream",
     "text": [
      "<ipython-input-16-6b31f6b9f5ce>:1: RuntimeWarning: invalid value encountered in sqrt\n",
      "  np.diag(np.sqrt(np.linalg.inv(Fij_with_prior[:4,:4])))\n"
     ]
    },
    {
     "data": {
      "text/plain": [
       "array([0.00639544, 0.00456102, 0.01033815, 0.02015148])"
      ]
     },
     "execution_count": 16,
     "metadata": {},
     "output_type": "execute_result"
    }
   ],
   "source": [
    "np.diag(np.sqrt(np.linalg.inv(Fij_with_prior[:4,:4])))"
   ]
  },
  {
   "cell_type": "code",
   "execution_count": 65,
   "id": "3e3ad552-b0c4-48e1-90cf-a4b282d0c173",
   "metadata": {},
   "outputs": [
    {
     "name": "stderr",
     "output_type": "stream",
     "text": [
      "<ipython-input-65-2c22f3d3ae50>:1: RuntimeWarning: invalid value encountered in sqrt\n",
      "  np.diag(np.sqrt(np.linalg.inv(Fij_with_prior[:2,:2])))\n"
     ]
    },
    {
     "data": {
      "text/plain": [
       "array([0.00429801, 0.0028842 ])"
      ]
     },
     "execution_count": 65,
     "metadata": {},
     "output_type": "execute_result"
    }
   ],
   "source": [
    "np.diag(np.sqrt(np.linalg.inv(Fij_with_prior[:2,:2])))"
   ]
  },
  {
   "cell_type": "code",
   "execution_count": 66,
   "id": "a2b01565-a15b-43cc-9838-a7bb6c4cfe13",
   "metadata": {},
   "outputs": [
    {
     "name": "stderr",
     "output_type": "stream",
     "text": [
      "<ipython-input-66-800a0b0b04ac>:1: RuntimeWarning: invalid value encountered in sqrt\n",
      "  corr_mat = np.linalg.inv(Fij_with_prior[:4,:4])/np.diag(np.sqrt(np.linalg.inv(Fij_with_prior[:4,:4])))[:,None]/np.diag(np.sqrt(np.linalg.inv(Fij_with_prior[:4,:4])))[None,:]\n"
     ]
    }
   ],
   "source": [
    "corr_mat = np.linalg.inv(Fij_with_prior[:4,:4])/np.diag(np.sqrt(np.linalg.inv(Fij_with_prior[:4,:4])))[:,None]/np.diag(np.sqrt(np.linalg.inv(Fij_with_prior[:4,:4])))[None,:]"
   ]
  },
  {
   "cell_type": "code",
   "execution_count": 67,
   "id": "60eae6b3-8827-45b0-91af-869462b272a3",
   "metadata": {},
   "outputs": [
    {
     "data": {
      "text/plain": [
       "array([[ 1.        , -0.36600074,  0.48918734, -0.90307345],\n",
       "       [-0.36600074,  1.        , -0.93029699,  0.59470038],\n",
       "       [ 0.48918734, -0.93029699,  1.        , -0.74390488],\n",
       "       [-0.90307345,  0.59470038, -0.74390488,  1.        ]])"
      ]
     },
     "execution_count": 67,
     "metadata": {},
     "output_type": "execute_result"
    }
   ],
   "source": [
    "corr_mat[:4,:4]"
   ]
  },
  {
   "cell_type": "code",
   "execution_count": null,
   "id": "71d3c58b-5e74-46c7-ab45-03f3d30490b9",
   "metadata": {},
   "outputs": [],
   "source": []
  }
 ],
 "metadata": {
  "kernelspec": {
   "display_name": "Cobaya-env",
   "language": "python",
   "name": "cobaya"
  },
  "language_info": {
   "codemirror_mode": {
    "name": "ipython",
    "version": 3
   },
   "file_extension": ".py",
   "mimetype": "text/x-python",
   "name": "python",
   "nbconvert_exporter": "python",
   "pygments_lexer": "ipython3",
   "version": "3.8.5"
  }
 },
 "nbformat": 4,
 "nbformat_minor": 5
}
