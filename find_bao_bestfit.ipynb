{
 "cells": [
  {
   "cell_type": "code",
   "execution_count": 4,
   "id": "37fc8ca7-4de9-46ad-bd71-3334f61aa5f3",
   "metadata": {},
   "outputs": [],
   "source": [
    "import numpy as np\n",
    "from matplotlib import pyplot as plt"
   ]
  },
  {
   "cell_type": "code",
   "execution_count": null,
   "id": "5c256cb1-ab64-46dd-ad98-79e9d8583e2e",
   "metadata": {},
   "outputs": [],
   "source": []
  },
  {
   "cell_type": "code",
   "execution_count": 2,
   "id": "83e8254b-de75-4ce3-84a6-902f9abb8332",
   "metadata": {},
   "outputs": [],
   "source": [
    "import sys\n",
    "sys.path.append('./lss_likelihood/')\n",
    "from linear_theory import*\n",
    "from pnw_dst import pnw_dst"
   ]
  },
  {
   "cell_type": "code",
   "execution_count": 107,
   "id": "33eef1e1-f2ca-4fe4-b8f4-07abd2289495",
   "metadata": {},
   "outputs": [],
   "source": [
    "zfid = 0.85\n",
    "OmM_fid = 0.3\n",
    "\n",
    "fz = f_of_a(1./(1+zfid),OmegaM=OmM_fid)\n",
    "Dz = D_of_a(1./(1+zfid),OmegaM=OmM_fid)\n",
    "\n",
    "\n",
    "ki, pi  = np.loadtxt('Pk_Planck15_Table4.txt', unpack=True)\n",
    "knw, pnw = np.loadtxt('Pk_Planck15_NW_Table4.txt', unpack=True)\n",
    "pw = pi - pnw"
   ]
  },
  {
   "cell_type": "code",
   "execution_count": null,
   "id": "3d429f62-9edd-42b5-9dc2-d086b2b0ae5e",
   "metadata": {},
   "outputs": [],
   "source": []
  },
  {
   "cell_type": "code",
   "execution_count": null,
   "id": "f6f5c702-625a-4787-b2bb-8ce22d01e18d",
   "metadata": {},
   "outputs": [],
   "source": []
  },
  {
   "cell_type": "code",
   "execution_count": null,
   "id": "423975b0-c7c4-461c-8a3b-9476f7da27cb",
   "metadata": {},
   "outputs": [],
   "source": []
  },
  {
   "cell_type": "code",
   "execution_count": null,
   "id": "7b330d24-a4a0-456b-a530-2536954fd795",
   "metadata": {},
   "outputs": [],
   "source": []
  },
  {
   "cell_type": "code",
   "execution_count": null,
   "id": "13769499-5cc7-40f8-b4a3-e95b172c8778",
   "metadata": {},
   "outputs": [],
   "source": []
  },
  {
   "cell_type": "code",
   "execution_count": 108,
   "id": "1c9f4433-24e2-423b-bf4b-0de04532b115",
   "metadata": {},
   "outputs": [
    {
     "data": {
      "text/plain": [
       "(0.0, 0.3)"
      ]
     },
     "execution_count": 108,
     "metadata": {},
     "output_type": "execute_result"
    },
    {
     "data": {
      "image/png": "[encoded data removed]",
      "text/plain": [
       "<Figure size 432x288 with 1 Axes>"
      ]
     },
     "metadata": {
      "needs_background": "light"
     },
     "output_type": "display_data"
    }
   ],
   "source": [
    "plt.plot(ki, ki * pnw)\n",
    "plt.plot(ki, ki * pi)\n",
    "\n",
    "plt.ylim(0,700)\n",
    "\n",
    "plt.xlim(0,0.3)"
   ]
  },
  {
   "cell_type": "code",
   "execution_count": 109,
   "id": "ec1ac320-6977-4a57-a3a4-4574d5efbd1e",
   "metadata": {},
   "outputs": [],
   "source": [
    "from scipy.interpolate import interp1d\n",
    "from scipy.special import spherical_jn\n",
    "from scipy.integrate import simps\n",
    "\n",
    "qbao = 100\n",
    "j0 = spherical_jn(0,ki*qbao)\n",
    "Sk = np.exp(-0.5*(ki*15)**2)\n",
    "\n",
    "sigmadd = Dz**2 * simps( 2./3 * pi * (1-Sk)**2 * (1-j0), x = ki) / (2*np.pi**2)\n",
    "sigmass = Dz**2 * simps( 2./3 * pi * (-Sk)**2 * (1-j0), x = ki) / (2*np.pi**2)\n",
    "\n",
    "sigmads_dd = Dz**2 * simps( 2./3 * pi * (1-Sk)**2, x = ki) / (2*np.pi**2)\n",
    "sigmads_ss = Dz**2 * simps( 2./3 * pi * (-Sk)**2, x = ki) / (2*np.pi**2)\n",
    "sigmads_ds = -Dz**2 * simps( 2./3 * pi * (1-Sk)*(-Sk)*j0, x = ki) / (2*np.pi**2) # this minus sign is because we subtract the cross term\n",
    " \n",
    "Zels= {'R': 15.,\n",
    "       'fz':fz,\\\n",
    "       'klin': ki, 'pnw': Dz**2 * pnw, 'pw': Dz**2 * pw,\\\n",
    "       'sigmas': (sigmadd, sigmass, sigmads_dd, sigmads_ss, sigmads_ds)}"
   ]
  },
  {
   "cell_type": "code",
   "execution_count": null,
   "id": "79720c78-d20e-47b8-918b-3c8ce777b3fb",
   "metadata": {},
   "outputs": [],
   "source": []
  },
  {
   "cell_type": "code",
   "execution_count": null,
   "id": "b6a3bdd3-5e6e-4f1b-a0bd-82eebf01b651",
   "metadata": {},
   "outputs": [],
   "source": []
  },
  {
   "cell_type": "code",
   "execution_count": null,
   "id": "f85774db-994b-4d6f-af26-cd07130dba2c",
   "metadata": {},
   "outputs": [],
   "source": []
  },
  {
   "cell_type": "code",
   "execution_count": 110,
   "id": "e5eacc0c-af3d-4e94-bfc2-c5638d6ab5a2",
   "metadata": {},
   "outputs": [],
   "source": [
    "from numpy.polynomial.polynomial import polyval\n",
    "\n",
    "def compute_bao_pkmu(B1,F, mu_obs):\n",
    "    '''\n",
    "        Helper function to get P(k,mu) post-recon in RecIso.\n",
    "        \n",
    "        This is turned into Pkell and then Hankel transformed in the bao_predict funciton.\n",
    "    '''\n",
    "    \n",
    "        \n",
    "    f0 = Zels['fz']\n",
    "    apar, aperp = 1, 1\n",
    "        \n",
    "    klin = Zels['klin']\n",
    "    pnw = Zels['pnw']\n",
    "    pw  = Zels['pw']\n",
    "        \n",
    "    sigmadd, sigmass, sigmads_dd, sigmads_ss, sigmads_ds = Zels['sigmas']\n",
    "    R = Zels['R']\n",
    "\n",
    "    Sk = np.exp(-0.5*(klin*R)**2)\n",
    " \n",
    "    F_AP = apar/aperp\n",
    "    AP_fac = np.sqrt(1 + mu_obs**2 *(1./F_AP**2 - 1) )\n",
    "    mu = mu_obs / F_AP / AP_fac\n",
    "    ktrue = klin/aperp*AP_fac\n",
    "        \n",
    "    # First construct P_{dd,ss,ds} individually\n",
    "    dampfac_dd = np.exp( -0.5 * klin**2 * sigmadd * (1 + f0*(2+f0)*mu**2) )\n",
    "    pdd = ( (1 + F*mu**2)*(1-Sk) + B1 )**2 * (dampfac_dd * pw + pnw)\n",
    "        \n",
    "    # then Pss\n",
    "    dampfac_ss = np.exp( -0.5 * klin**2 * sigmass )\n",
    "    pss = Sk**2 * (dampfac_ss * pw + pnw)\n",
    "        \n",
    "    # Finally Pds\n",
    "    dampfac_ds = np.exp(-0.5 * klin**2 * ( 0.5*sigmads_dd*(1+f0*(2+f0)*mu**2)\\\n",
    "                                             + 0.5*sigmads_ss \\\n",
    "                                             + (1+f0*mu**2)*sigmads_ds) )\n",
    "    linfac = - Sk * ( (1+F*mu**2)*(1-Sk) + B1 )\n",
    "    pds = linfac * (dampfac_ds * pw + pnw)\n",
    "        \n",
    "    # Sum it all up and interpolate?\n",
    "    ptrue = pdd + pss - 2*pds\n",
    "    pmodel = interp1d(klin, ptrue, kind='cubic', fill_value=0,bounds_error=False)(ktrue)\n",
    "    \n",
    "    return pmodel"
   ]
  },
  {
   "cell_type": "code",
   "execution_count": 130,
   "id": "31cf5003-7267-4f3e-ada0-5631cdaee346",
   "metadata": {},
   "outputs": [],
   "source": [
    "# Now define the functions!\n",
    "def bao_predict(B1,F,M0,M1,M2,M3,M4,Q0,Q1,Q2,Q3,Q4):\n",
    "        \n",
    "\n",
    "    # Generate the sampling\n",
    "    ngauss = 4\n",
    "    nus, ws = np.polynomial.legendre.leggauss(2*ngauss)\n",
    "    nus_calc = nus[0:ngauss]\n",
    "        \n",
    "    L0 = np.polynomial.legendre.Legendre((1))(nus)\n",
    "    L2 = np.polynomial.legendre.Legendre((0,0,1))(nus)\n",
    "    #L4 = np.polynomial.legendre.Legendre((0,0,0,0,1))(nus)\n",
    "        \n",
    "        \n",
    "    klin = Zels['klin']\n",
    "    pknutable = np.zeros((len(nus),len(klin)))\n",
    "    \n",
    "    for ii, nu in enumerate(nus_calc):\n",
    "        pknutable[ii,:] = compute_bao_pkmu(B1,F,nu)\n",
    " \n",
    "    pknutable[ngauss:,:] = np.flip(pknutable[0:ngauss],axis=0)\n",
    "        \n",
    "    p0 = 0.5 * np.sum((ws*L0)[:,None]*pknutable,axis=0) #+ 1000 * polyval(klin,[m0,m1,m2,m3,m4,m5]) / klin\n",
    "    p2 = 2.5 * np.sum((ws*L2)[:,None]*pknutable,axis=0) #+ 1000 * polyval(klin,[q0,q1,q2,q3,q4,q5]) / klin\n",
    "\n",
    "        \n",
    "    p0 += polyval(klin,[M0,M1,M2,M3,M4])\n",
    "    p2 += polyval(klin,[Q0,Q1,Q2,Q3,Q4])\n",
    "\n",
    "    return np.array([klin,p0,p2]).T"
   ]
  },
  {
   "cell_type": "code",
   "execution_count": 112,
   "id": "624d1dfc-56ea-4e5f-a3a2-6ef7bd1801cf",
   "metadata": {},
   "outputs": [
    {
     "data": {
      "text/plain": [
       "(0.0, 0.2)"
      ]
     },
     "execution_count": 112,
     "metadata": {},
     "output_type": "execute_result"
    },
    {
     "data": {
      "image/png": "[encoded data removed]",
      "text/plain": [
       "<Figure size 432x288 with 1 Axes>"
      ]
     },
     "metadata": {
      "needs_background": "light"
     },
     "output_type": "display_data"
    }
   ],
   "source": [
    "tt = bao_predict(1,1,0,0,0,0,0,0,0,0,0,0)\n",
    "\n",
    "#dats = np.loadtxt('../CobayaLSS/xitest.dat')\n",
    "\n",
    "plt.plot(tt[:,0], tt[:,0] * tt[:,1])\n",
    "plt.plot(tt[:,0], tt[:,0] * tt[:,2])\n",
    "\n",
    "plt.xlim(0,0.2)"
   ]
  },
  {
   "cell_type": "code",
   "execution_count": 113,
   "id": "a1a048de-e3c5-4b1e-999d-0af6883438c1",
   "metadata": {},
   "outputs": [],
   "source": [
    "from scipy.interpolate import InterpolatedUnivariateSpline as Spline\n",
    "\n",
    "kdat, p0dat, p2dat, p4dat, Nk = np.loadtxt('data/Martin_RecIso/UNIT_Pk/pk_unit_martin_reciso.txt',unpack=True)\n",
    "\n",
    "def bao_observe(tt):\n",
    "    '''\n",
    "    Bin the BAO results... probabaly should eventually use a matrix.\n",
    "    '''\n",
    "        \n",
    "    thy0 = Spline(tt[:,0],tt[:,1],ext='extrapolate')(kdat)\n",
    "    thy2 = Spline(tt[:,0],tt[:,2],ext='extrapolate')(kdat)\n",
    "\n",
    "    return np.concatenate((thy0,thy2))"
   ]
  },
  {
   "cell_type": "code",
   "execution_count": 114,
   "id": "ff0eea86-cee2-4746-82b5-0bc285b36491",
   "metadata": {},
   "outputs": [
    {
     "name": "stdout",
     "output_type": "stream",
     "text": [
      "(10.12025882175815, 9.332620656917147, 10.128518651354545, 13.685592617083431, 0.03169562702463055)\n"
     ]
    }
   ],
   "source": [
    "print(Zels['sigmas'])"
   ]
  },
  {
   "cell_type": "code",
   "execution_count": null,
   "id": "65dc193d-1599-4223-9571-17116667f24c",
   "metadata": {},
   "outputs": [],
   "source": []
  },
  {
   "cell_type": "code",
   "execution_count": 115,
   "id": "79542a6c-3cd6-4cef-ab68-f134617e1bbd",
   "metadata": {},
   "outputs": [],
   "source": [
    "# Cut out parts of the covariance\n",
    "cov = np.loadtxt('data/Martin_RecIso/EZ_Cov/cov_martin_reciso_block_diag_p0p2.txt')"
   ]
  },
  {
   "cell_type": "code",
   "execution_count": 120,
   "id": "de1055ec-0932-4570-bde3-67d0bf95f845",
   "metadata": {},
   "outputs": [],
   "source": [
    "# Now fit... naively\n",
    "kmin, kmax = 0.02, 0.25\n",
    "iis = (kdat > kmin) * (kdat < kmax)\n",
    "fit_iis = np.concatenate( (iis,iis) )\n",
    "\n",
    "Cinv = np.linalg.inv(cov[np.ix_(fit_iis,fit_iis)])\n",
    "\n",
    "dats = np.concatenate((p0dat,p2dat))\n",
    "\n",
    "def diff(p):\n",
    "    B1,F, M0,M1,M2,M3,M4,Q0,Q1,Q2,Q3,Q4 = p\n",
    "    \n",
    "    tt = bao_predict(B1,F,M0,M1,M2,M3,M4,Q0,Q1,Q2,Q3,Q4)\n",
    "    tt = bao_observe(tt)\n",
    "    \n",
    "    return tt - dats\n",
    "\n",
    "def chi2(p):\n",
    "    \n",
    "    dd = diff(p)[fit_iis]\n",
    "    chi2 = np.dot(dd,np.dot(Cinv,dd))\n",
    "    \n",
    "    return chi2"
   ]
  },
  {
   "cell_type": "code",
   "execution_count": 121,
   "id": "8242a046-ad92-4e0a-ad1f-7bc42bf1fdda",
   "metadata": {},
   "outputs": [
    {
     "data": {
      "text/plain": [
       "379088.48588271457"
      ]
     },
     "execution_count": 121,
     "metadata": {},
     "output_type": "execute_result"
    }
   ],
   "source": [
    "chi2([1,1,0,0,0,0,0,0,0,0,0,0])"
   ]
  },
  {
   "cell_type": "code",
   "execution_count": 122,
   "id": "8d5891fb-5979-4d9c-bac3-17deca873cff",
   "metadata": {},
   "outputs": [
    {
     "name": "stdout",
     "output_type": "stream",
     "text": [
      "      fun: 23.466149903913408\n",
      " hess_inv: array([[ 1.38870489e+00,  2.19423651e-02, -1.83473519e-01,\n",
      "        -2.98639541e+01,  5.15615374e+01,  4.18518056e+01,\n",
      "         1.61515016e+01,  8.86297394e+01, -2.82725936e+03,\n",
      "         1.30152059e+02, -9.42698720e+00, -1.97198267e+01],\n",
      "       [ 2.19423651e-02,  9.53924734e-04,  7.10339279e-03,\n",
      "        -4.52647488e-01,  7.86930775e-01,  6.55216418e-01,\n",
      "         2.55226995e-01,  1.42865644e+00, -4.56320545e+01,\n",
      "         2.23183815e+00, -2.28577342e-01, -3.80246107e-01],\n",
      "       [-1.83473519e-01,  7.10339279e-03,  3.22403212e-01,\n",
      "         4.01874159e+00, -6.50500527e+00, -5.42705109e+00,\n",
      "        -2.13275714e+00, -1.11228708e+01,  3.54521476e+02,\n",
      "        -1.24593691e+01, -2.15085686e-02,  1.29342803e+00],\n",
      "       [-2.98639541e+01, -4.52647488e-01,  4.01874159e+00,\n",
      "         7.04802612e+02, -1.22582570e+03, -9.37105932e+02,\n",
      "        -3.58231337e+02, -1.89980535e+03,  6.06088738e+04,\n",
      "        -2.70074941e+03,  6.96966487e+01,  3.34574943e+02],\n",
      "       [ 5.15615374e+01,  7.86930775e-01, -6.50500527e+00,\n",
      "        -1.22582570e+03,  2.18097863e+03,  1.63576564e+03,\n",
      "         6.19014077e+02,  3.28266863e+03, -1.04711746e+05,\n",
      "         4.79105062e+03, -1.14929695e+02, -5.88624867e+02],\n",
      "       [ 4.18518056e+01,  6.55216418e-01, -5.42705109e+00,\n",
      "        -9.37105932e+02,  1.63576564e+03,  1.29066472e+03,\n",
      "         4.94418648e+02,  2.66836482e+03, -8.51201370e+04,\n",
      "         3.88848370e+03, -2.02751764e+02, -5.41986777e+02],\n",
      "       [ 1.61515016e+01,  2.55226995e-01, -2.13275714e+00,\n",
      "        -3.58231337e+02,  6.19014077e+02,  4.94418648e+02,\n",
      "         1.91314381e+02,  1.02977510e+03, -3.28512497e+04,\n",
      "         1.48821457e+03, -8.37184157e+01, -2.10933874e+02],\n",
      "       [ 8.86297394e+01,  1.42865644e+00, -1.11228708e+01,\n",
      "        -1.89980535e+03,  3.28266863e+03,  2.66836482e+03,\n",
      "         1.02977510e+03,  5.65871371e+03, -1.80508607e+05,\n",
      "         8.33339156e+03, -6.17897508e+02, -1.27123097e+03],\n",
      "       [-2.82725936e+03, -4.56320545e+01,  3.54521476e+02,\n",
      "         6.06088738e+04, -1.04711746e+05, -8.51201370e+04,\n",
      "        -3.28512497e+04, -1.80508607e+05,  5.75817962e+06,\n",
      "        -2.65777106e+05,  1.96925403e+04,  4.05350549e+04],\n",
      "       [ 1.30152059e+02,  2.23183815e+00, -1.24593691e+01,\n",
      "        -2.70074941e+03,  4.79105062e+03,  3.88848370e+03,\n",
      "         1.48821457e+03,  8.33339156e+03, -2.65777106e+05,\n",
      "         1.28592217e+04, -1.16617519e+03, -2.08901550e+03],\n",
      "       [-9.42698720e+00, -2.28577342e-01, -2.15085685e-02,\n",
      "         6.96966487e+01, -1.14929695e+02, -2.02751764e+02,\n",
      "        -8.37184157e+01, -6.17897508e+02,  1.96925403e+04,\n",
      "        -1.16617519e+03,  3.64705185e+02,  3.42673263e+02],\n",
      "       [-1.97198267e+01, -3.80246107e-01,  1.29342803e+00,\n",
      "         3.34574943e+02, -5.88624867e+02, -5.41986777e+02,\n",
      "        -2.10933874e+02, -1.27123097e+03,  4.05350549e+04,\n",
      "        -2.08901550e+03,  3.42673263e+02,  4.31417710e+02]])\n",
      "      jac: array([-3.62789631e-02,  3.49807739e-03, -6.76870346e-04, -7.53402710e-05,\n",
      "       -9.05990601e-06,  1.71661377e-05, -6.67572021e-06,  2.85625458e-04,\n",
      "        5.50746918e-05,  8.58306885e-06, -3.57627869e-06,  0.00000000e+00])\n",
      "  message: 'Desired error not necessarily achieved due to precision loss.'\n",
      "     nfev: 2624\n",
      "      nit: 148\n",
      "     njev: 201\n",
      "   status: 2\n",
      "  success: False\n",
      "        x: array([ 1.63273705e-01,  6.84473898e-01, -4.60041296e+00,  3.61670836e+02,\n",
      "       -2.40439037e+03,  3.78273854e+03,  2.75865843e+03, -7.68240365e+00,\n",
      "        4.61765511e+02, -4.32440908e+03,  6.92197095e+03,  4.59942321e+03])\n"
     ]
    }
   ],
   "source": [
    "from scipy.optimize import minimize\n",
    "\n",
    "res = minimize(chi2, [1,1,0,0,0,0,0,0,0,0,0,0])\n",
    "print(res)"
   ]
  },
  {
   "cell_type": "code",
   "execution_count": 123,
   "id": "96b796e0-0af9-44dd-8b71-98bdc4085db5",
   "metadata": {},
   "outputs": [
    {
     "data": {
      "text/plain": [
       "(0.0, 700.0)"
      ]
     },
     "execution_count": 123,
     "metadata": {},
     "output_type": "execute_result"
    },
    {
     "data": {
      "image/png": "[encoded data removed]",
      "text/plain": [
       "<Figure size 720x360 with 1 Axes>"
      ]
     },
     "metadata": {
      "needs_background": "light"
     },
     "output_type": "display_data"
    }
   ],
   "source": [
    "plt.figure(figsize=(10,5))\n",
    "\n",
    "#B1, F, M0, M1, Q0, Q1 = res.x\n",
    "#M2, Q2 = 0,0 \n",
    "\n",
    "tt = bao_predict(*res.x)\n",
    "tt = bao_observe(tt)\n",
    "\n",
    "err0 = np.diag(cov)[:48]**0.5\n",
    "err2 = np.diag(cov)[48:]**0.5\n",
    "\n",
    "plt.plot(kdat, kdat * tt[:48])\n",
    "plt.errorbar(kdat, kdat * p0dat, yerr=kdat*err0, c='C0', fmt='o')\n",
    "\n",
    "plt.plot(kdat, kdat * tt[48:])\n",
    "plt.errorbar(kdat, kdat * p2dat, yerr=kdat*err0, c='C1', fmt='o')\n",
    "\n",
    "plt.ylim(0,700)\n",
    "\n",
    "#plt.plot(rdat, -rdat**2 * tt[36:])\n",
    "#plt.errorbar(rdat, -rdat**2 * xi2dat, yerr=rdat**2*err2, c='C1', fmt='o')\n",
    "\n",
    "#plt.plot([rmin,rmin],[-100,100], 'k--')\n",
    "#plt.plot([rmax,rmax], [-100,100], 'k--')\n",
    "\n",
    "#plt.xlim(0,150)\n",
    "#plt.ylim(-50,100)\n",
    "\n",
    "#plt.xlabel('r')\n",
    "#plt.ylabel(r'$i^\\ell r^2 \\xi_\\ell$')\n",
    "\n",
    "#plt.savefig('planck_bao_z3_bestfit_linear.pdf')"
   ]
  },
  {
   "cell_type": "code",
   "execution_count": 124,
   "id": "ae5527e0-471f-4079-9593-c39a5c2eae8e",
   "metadata": {},
   "outputs": [
    {
     "data": {
      "text/plain": [
       "array([0.00748952, 0.01606578, 0.02566306, 0.03547406, 0.04536407,\n",
       "       0.05529814, 0.06525907, 0.07522584, 0.08520013, 0.09517893,\n",
       "       0.10516671, 0.11515255, 0.12513824, 0.13512883, 0.145115  ,\n",
       "       0.15510966, 0.16510609, 0.17509935, 0.18509173, 0.19508584,\n",
       "       0.20508471, 0.21507913, 0.22507373, 0.23507125, 0.24506841,\n",
       "       0.25506433, 0.2650619 , 0.27505915, 0.28505511, 0.29505671,\n",
       "       0.30505768, 0.31505446, 0.32505111, 0.33504893, 0.3450496 ,\n",
       "       0.3550502 , 0.3650455 , 0.37504248, 0.38504308, 0.39504291,\n",
       "       0.40504158, 0.41504075, 0.42503967, 0.43503871, 0.44503855,\n",
       "       0.45503815, 0.46503709, 0.47503632])"
      ]
     },
     "execution_count": 124,
     "metadata": {},
     "output_type": "execute_result"
    }
   ],
   "source": [
    "kdat"
   ]
  },
  {
   "cell_type": "code",
   "execution_count": 133,
   "id": "16962b97-e83f-4104-9095-502908945562",
   "metadata": {},
   "outputs": [],
   "source": [
    "dats = np.loadtxt('thy.dat')\n",
    "obs  = np.loadtxt('obs.dat')"
   ]
  },
  {
   "cell_type": "code",
   "execution_count": 137,
   "id": "6cee5312-73ee-48d5-a6fe-44e58634370f",
   "metadata": {},
   "outputs": [
    {
     "data": {
      "text/plain": [
       "(0.0, 0.4)"
      ]
     },
     "execution_count": 137,
     "metadata": {},
     "output_type": "execute_result"
    },
    {
     "data": {
      "image/png": "[encoded data removed]",
      "text/plain": [
       "<Figure size 720x360 with 1 Axes>"
      ]
     },
     "metadata": {
      "needs_background": "light"
     },
     "output_type": "display_data"
    }
   ],
   "source": [
    "plt.figure(figsize=(10,5))\n",
    "\n",
    "#B1, F, M0, M1, Q0, Q1 = res.x\n",
    "#M2, Q2 = 0,0 \n",
    "\n",
    "tt = bao_predict(*res.x)\n",
    "tt = bao_observe(tt)\n",
    "\n",
    "err0 = np.diag(cov)[:48]**0.5\n",
    "err2 = np.diag(cov)[48:]**0.5\n",
    "\n",
    "#plt.plot(kdat, kdat * tt[:48])\n",
    "#plt.errorbar(kdat, kdat * p0dat, yerr=kdat*err0, c='C0', fmt='o')\n",
    "plt.plot(dats[:,0], dats[:,0]*dats[:,1], 'k--')\n",
    "plt.plot(kdat, kdat*obs[:48], 'k:')\n",
    "\n",
    "\n",
    "#plt.plot(kdat, kdat * tt[48:])\n",
    "#plt.errorbar(kdat, kdat * p2dat, yerr=kdat*err0, c='C1', fmt='o')\n",
    "plt.plot(dats[:,0], dats[:,0]*dats[:,2], 'k--')\n",
    "plt.plot(kdat, kdat*obs[48:], 'k:')\n",
    "\n",
    "\n",
    "\n",
    "plt.ylim(0,700)\n",
    "plt.xlim(0,0.4)"
   ]
  },
  {
   "cell_type": "code",
   "execution_count": 135,
   "id": "bdb36a66-7267-432d-accb-adee844e111e",
   "metadata": {},
   "outputs": [
    {
     "data": {
      "text/plain": [
       "(96,)"
      ]
     },
     "execution_count": 135,
     "metadata": {},
     "output_type": "execute_result"
    }
   ],
   "source": [
    "obs.shape"
   ]
  },
  {
   "cell_type": "code",
   "execution_count": null,
   "id": "805d75af-6618-4e07-87cd-0d6954c043de",
   "metadata": {},
   "outputs": [],
   "source": []
  },
  {
   "cell_type": "code",
   "execution_count": null,
   "id": "c0eb21c3-be0a-48cb-b247-0bc7a250b590",
   "metadata": {},
   "outputs": [],
   "source": []
  },
  {
   "cell_type": "code",
   "execution_count": null,
   "id": "3aec9f3a-c390-495e-bf8d-5acff5d9d856",
   "metadata": {},
   "outputs": [],
   "source": []
  },
  {
   "cell_type": "code",
   "execution_count": null,
   "id": "1f1781f2-3deb-4867-a9c1-7e99bc60c051",
   "metadata": {},
   "outputs": [],
   "source": []
  },
  {
   "cell_type": "code",
   "execution_count": null,
   "id": "7ef5f298-ef1f-4c55-84f2-fb10972c1d67",
   "metadata": {},
   "outputs": [],
   "source": []
  }
 ],
 "metadata": {
  "kernelspec": {
   "display_name": "nersc_env",
   "language": "python",
   "name": "nersc_env"
  },
  "language_info": {
   "codemirror_mode": {
    "name": "ipython",
    "version": 3
   },
   "file_extension": ".py",
   "mimetype": "text/x-python",
   "name": "python",
   "nbconvert_exporter": "python",
   "pygments_lexer": "ipython3",
   "version": "3.8.8"
  }
 },
 "nbformat": 4,
 "nbformat_minor": 5
}
